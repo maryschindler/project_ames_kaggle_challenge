{
 "cells": [
  {
   "cell_type": "markdown",
   "id": "642d2b77-2fae-458c-8ccd-65fabb415946",
   "metadata": {},
   "source": [
    "# Project 2 - Ames Housing Data and Kaggle Challenge\n",
    "## Revisited"
   ]
  },
  {
   "cell_type": "markdown",
   "id": "a52d8ed7-30bf-4724-9b34-5fdb3aacaf2e",
   "metadata": {},
   "source": [
    "When reviewing the various projects I completed during my time with General Assembly I found that Project 2, based on an existing Kaggle challenge, offered to most room for improvement. My notebooks were a mess: there was no clear organization to the repository as a whole and each individual notebook represented the full 'Data Science Process' (Cleaning through Model Deployment), each for a different list of features. \n",
    "\n",
    "While the project was not particularly complicated, the way in which I originally approached the project was: I now had a chance to improve upon the work I had done in a more succinct, cleaner manner. "
   ]
  },
  {
   "cell_type": "markdown",
   "id": "75443056-3b92-45fa-a03e-d9e8a7c602f7",
   "metadata": {},
   "source": [
    "**Imports:**"
   ]
  },
  {
   "cell_type": "code",
   "execution_count": 44,
   "id": "0ce93f3c-79c8-4272-988f-b8d0677c66c9",
   "metadata": {},
   "outputs": [],
   "source": [
    "import pandas as pd\n",
    "pd.set_option(\"display.max_columns\", None)\n",
    "\n",
    "import numpy as np\n",
    "np.random.seed(42)\n",
    "\n",
    "import matplotlib.pyplot as plt\n",
    "import seaborn as sns\n",
    "sns.set(style = \"darkgrid\")\n",
    "\n",
    "from sklearn import metrics \n",
    "from sklearn.metrics import mean_squared_error, r2_score\n",
    "\n",
    "from sklearn.linear_model import LinearRegression, LassoCV, RidgeCV, HuberRegressor\n",
    "from sklearn.tree import DecisionTreeRegressor\n",
    "\n",
    "from sklearn.preprocessing import StandardScaler\n",
    "from sklearn.model_selection import train_test_split, cross_val_score, cross_val_predict, GridSearchCV"
   ]
  },
  {
   "cell_type": "markdown",
   "id": "0cf5849e-2298-46a4-b090-3eeffd2a1d63",
   "metadata": {},
   "source": [
    "**Reading in Model-Ready Data**"
   ]
  },
  {
   "cell_type": "code",
   "execution_count": 2,
   "id": "9d4bd69e-caec-42fc-abfb-09e409c866d0",
   "metadata": {},
   "outputs": [],
   "source": [
    "#reading in training and testing data\n",
    "ames_df = pd.read_csv('../datasets/train_model_ready.csv')\n",
    "ames_test_df = pd.read_csv('../datasets/test_model_ready.csv')"
   ]
  },
  {
   "cell_type": "code",
   "execution_count": 3,
   "id": "579ee537-4d33-44ee-bd36-674043a47876",
   "metadata": {},
   "outputs": [
    {
     "data": {
      "text/html": [
       "<div>\n",
       "<style scoped>\n",
       "    .dataframe tbody tr th:only-of-type {\n",
       "        vertical-align: middle;\n",
       "    }\n",
       "\n",
       "    .dataframe tbody tr th {\n",
       "        vertical-align: top;\n",
       "    }\n",
       "\n",
       "    .dataframe thead th {\n",
       "        text-align: right;\n",
       "    }\n",
       "</style>\n",
       "<table border=\"1\" class=\"dataframe\">\n",
       "  <thead>\n",
       "    <tr style=\"text-align: right;\">\n",
       "      <th></th>\n",
       "      <th>ms_subclass</th>\n",
       "      <th>ms_zoning</th>\n",
       "      <th>lot_frontage</th>\n",
       "      <th>lot_area</th>\n",
       "      <th>street</th>\n",
       "      <th>alley</th>\n",
       "      <th>lot_shape</th>\n",
       "      <th>land_contour</th>\n",
       "      <th>utilities</th>\n",
       "      <th>lot_config</th>\n",
       "      <th>land_slope</th>\n",
       "      <th>neighborhood</th>\n",
       "      <th>condition_1</th>\n",
       "      <th>condition_2</th>\n",
       "      <th>bldg_type</th>\n",
       "      <th>house_style</th>\n",
       "      <th>overall_qual</th>\n",
       "      <th>overall_cond</th>\n",
       "      <th>year_built</th>\n",
       "      <th>year_remod/add</th>\n",
       "      <th>roof_style</th>\n",
       "      <th>roof_matl</th>\n",
       "      <th>exterior_1st</th>\n",
       "      <th>exterior_2nd</th>\n",
       "      <th>mas_vnr_type</th>\n",
       "      <th>mas_vnr_area</th>\n",
       "      <th>exter_qual</th>\n",
       "      <th>exter_cond</th>\n",
       "      <th>foundation</th>\n",
       "      <th>bsmt_qual</th>\n",
       "      <th>bsmt_cond</th>\n",
       "      <th>bsmt_exposure</th>\n",
       "      <th>bsmtfin_type_1</th>\n",
       "      <th>bsmtfin_sf_1</th>\n",
       "      <th>bsmtfin_type_2</th>\n",
       "      <th>bsmtfin_sf_2</th>\n",
       "      <th>bsmt_unf_sf</th>\n",
       "      <th>total_bsmt_sf</th>\n",
       "      <th>heating</th>\n",
       "      <th>heating_qc</th>\n",
       "      <th>central_air</th>\n",
       "      <th>electrical</th>\n",
       "      <th>1st_flr_sf</th>\n",
       "      <th>2nd_flr_sf</th>\n",
       "      <th>low_qual_fin_sf</th>\n",
       "      <th>gr_liv_area</th>\n",
       "      <th>bsmt_full_bath</th>\n",
       "      <th>bsmt_half_bath</th>\n",
       "      <th>full_bath</th>\n",
       "      <th>half_bath</th>\n",
       "      <th>bedroom_abvgr</th>\n",
       "      <th>kitchen_abvgr</th>\n",
       "      <th>kitchen_qual</th>\n",
       "      <th>totrms_abvgrd</th>\n",
       "      <th>functional</th>\n",
       "      <th>fireplaces</th>\n",
       "      <th>fireplace_qu</th>\n",
       "      <th>garage_type</th>\n",
       "      <th>garage_yr_blt</th>\n",
       "      <th>garage_finish</th>\n",
       "      <th>garage_cars</th>\n",
       "      <th>garage_area</th>\n",
       "      <th>garage_qual</th>\n",
       "      <th>garage_cond</th>\n",
       "      <th>paved_drive</th>\n",
       "      <th>wood_deck_sf</th>\n",
       "      <th>open_porch_sf</th>\n",
       "      <th>enclosed_porch</th>\n",
       "      <th>3ssn_porch</th>\n",
       "      <th>screen_porch</th>\n",
       "      <th>pool_area</th>\n",
       "      <th>pool_qc</th>\n",
       "      <th>fence</th>\n",
       "      <th>misc_feature</th>\n",
       "      <th>misc_val</th>\n",
       "      <th>mo_sold</th>\n",
       "      <th>yr_sold</th>\n",
       "      <th>sale_type</th>\n",
       "      <th>saleprice</th>\n",
       "    </tr>\n",
       "  </thead>\n",
       "  <tbody>\n",
       "    <tr>\n",
       "      <th>0</th>\n",
       "      <td>60</td>\n",
       "      <td>3</td>\n",
       "      <td>68.0</td>\n",
       "      <td>13517</td>\n",
       "      <td>1</td>\n",
       "      <td>1</td>\n",
       "      <td>1</td>\n",
       "      <td>1</td>\n",
       "      <td>1</td>\n",
       "      <td>1</td>\n",
       "      <td>1</td>\n",
       "      <td>0</td>\n",
       "      <td>0</td>\n",
       "      <td>1</td>\n",
       "      <td>1</td>\n",
       "      <td>2</td>\n",
       "      <td>6</td>\n",
       "      <td>8</td>\n",
       "      <td>1976</td>\n",
       "      <td>2005</td>\n",
       "      <td>2</td>\n",
       "      <td>1</td>\n",
       "      <td>2</td>\n",
       "      <td>1</td>\n",
       "      <td>1</td>\n",
       "      <td>289.0</td>\n",
       "      <td>4</td>\n",
       "      <td>3</td>\n",
       "      <td>2</td>\n",
       "      <td>3</td>\n",
       "      <td>3</td>\n",
       "      <td>1</td>\n",
       "      <td>6</td>\n",
       "      <td>533.0</td>\n",
       "      <td>1</td>\n",
       "      <td>0.0</td>\n",
       "      <td>192.0</td>\n",
       "      <td>725.0</td>\n",
       "      <td>1</td>\n",
       "      <td>5</td>\n",
       "      <td>1</td>\n",
       "      <td>2</td>\n",
       "      <td>725</td>\n",
       "      <td>754</td>\n",
       "      <td>0</td>\n",
       "      <td>1479</td>\n",
       "      <td>0.0</td>\n",
       "      <td>0.0</td>\n",
       "      <td>2</td>\n",
       "      <td>1</td>\n",
       "      <td>3</td>\n",
       "      <td>1</td>\n",
       "      <td>4</td>\n",
       "      <td>6</td>\n",
       "      <td>2</td>\n",
       "      <td>0</td>\n",
       "      <td>0</td>\n",
       "      <td>5</td>\n",
       "      <td>1976.0</td>\n",
       "      <td>2</td>\n",
       "      <td>2.0</td>\n",
       "      <td>475.0</td>\n",
       "      <td>3</td>\n",
       "      <td>3</td>\n",
       "      <td>2</td>\n",
       "      <td>0</td>\n",
       "      <td>44</td>\n",
       "      <td>0</td>\n",
       "      <td>0</td>\n",
       "      <td>0</td>\n",
       "      <td>0</td>\n",
       "      <td>0</td>\n",
       "      <td>0</td>\n",
       "      <td>0</td>\n",
       "      <td>0</td>\n",
       "      <td>3</td>\n",
       "      <td>2010</td>\n",
       "      <td>WD</td>\n",
       "      <td>130500</td>\n",
       "    </tr>\n",
       "    <tr>\n",
       "      <th>1</th>\n",
       "      <td>60</td>\n",
       "      <td>3</td>\n",
       "      <td>43.0</td>\n",
       "      <td>11492</td>\n",
       "      <td>1</td>\n",
       "      <td>1</td>\n",
       "      <td>1</td>\n",
       "      <td>1</td>\n",
       "      <td>1</td>\n",
       "      <td>1</td>\n",
       "      <td>1</td>\n",
       "      <td>0</td>\n",
       "      <td>1</td>\n",
       "      <td>1</td>\n",
       "      <td>1</td>\n",
       "      <td>2</td>\n",
       "      <td>7</td>\n",
       "      <td>5</td>\n",
       "      <td>1996</td>\n",
       "      <td>1997</td>\n",
       "      <td>2</td>\n",
       "      <td>1</td>\n",
       "      <td>3</td>\n",
       "      <td>3</td>\n",
       "      <td>1</td>\n",
       "      <td>132.0</td>\n",
       "      <td>4</td>\n",
       "      <td>3</td>\n",
       "      <td>2</td>\n",
       "      <td>4</td>\n",
       "      <td>3</td>\n",
       "      <td>1</td>\n",
       "      <td>6</td>\n",
       "      <td>637.0</td>\n",
       "      <td>1</td>\n",
       "      <td>0.0</td>\n",
       "      <td>276.0</td>\n",
       "      <td>913.0</td>\n",
       "      <td>1</td>\n",
       "      <td>5</td>\n",
       "      <td>1</td>\n",
       "      <td>2</td>\n",
       "      <td>913</td>\n",
       "      <td>1209</td>\n",
       "      <td>0</td>\n",
       "      <td>2122</td>\n",
       "      <td>1.0</td>\n",
       "      <td>0.0</td>\n",
       "      <td>2</td>\n",
       "      <td>1</td>\n",
       "      <td>4</td>\n",
       "      <td>1</td>\n",
       "      <td>4</td>\n",
       "      <td>8</td>\n",
       "      <td>2</td>\n",
       "      <td>1</td>\n",
       "      <td>3</td>\n",
       "      <td>5</td>\n",
       "      <td>1997.0</td>\n",
       "      <td>2</td>\n",
       "      <td>2.0</td>\n",
       "      <td>559.0</td>\n",
       "      <td>3</td>\n",
       "      <td>3</td>\n",
       "      <td>2</td>\n",
       "      <td>0</td>\n",
       "      <td>74</td>\n",
       "      <td>0</td>\n",
       "      <td>0</td>\n",
       "      <td>0</td>\n",
       "      <td>0</td>\n",
       "      <td>0</td>\n",
       "      <td>0</td>\n",
       "      <td>0</td>\n",
       "      <td>0</td>\n",
       "      <td>4</td>\n",
       "      <td>2009</td>\n",
       "      <td>WD</td>\n",
       "      <td>220000</td>\n",
       "    </tr>\n",
       "    <tr>\n",
       "      <th>2</th>\n",
       "      <td>20</td>\n",
       "      <td>3</td>\n",
       "      <td>68.0</td>\n",
       "      <td>7922</td>\n",
       "      <td>1</td>\n",
       "      <td>1</td>\n",
       "      <td>2</td>\n",
       "      <td>1</td>\n",
       "      <td>1</td>\n",
       "      <td>2</td>\n",
       "      <td>1</td>\n",
       "      <td>0</td>\n",
       "      <td>1</td>\n",
       "      <td>1</td>\n",
       "      <td>1</td>\n",
       "      <td>2</td>\n",
       "      <td>5</td>\n",
       "      <td>7</td>\n",
       "      <td>1953</td>\n",
       "      <td>2007</td>\n",
       "      <td>2</td>\n",
       "      <td>1</td>\n",
       "      <td>3</td>\n",
       "      <td>3</td>\n",
       "      <td>2</td>\n",
       "      <td>0.0</td>\n",
       "      <td>3</td>\n",
       "      <td>4</td>\n",
       "      <td>2</td>\n",
       "      <td>3</td>\n",
       "      <td>3</td>\n",
       "      <td>1</td>\n",
       "      <td>6</td>\n",
       "      <td>731.0</td>\n",
       "      <td>1</td>\n",
       "      <td>0.0</td>\n",
       "      <td>326.0</td>\n",
       "      <td>1057.0</td>\n",
       "      <td>1</td>\n",
       "      <td>3</td>\n",
       "      <td>1</td>\n",
       "      <td>2</td>\n",
       "      <td>1057</td>\n",
       "      <td>0</td>\n",
       "      <td>0</td>\n",
       "      <td>1057</td>\n",
       "      <td>1.0</td>\n",
       "      <td>0.0</td>\n",
       "      <td>1</td>\n",
       "      <td>0</td>\n",
       "      <td>3</td>\n",
       "      <td>1</td>\n",
       "      <td>4</td>\n",
       "      <td>5</td>\n",
       "      <td>2</td>\n",
       "      <td>0</td>\n",
       "      <td>0</td>\n",
       "      <td>1</td>\n",
       "      <td>1953.0</td>\n",
       "      <td>1</td>\n",
       "      <td>1.0</td>\n",
       "      <td>246.0</td>\n",
       "      <td>3</td>\n",
       "      <td>3</td>\n",
       "      <td>2</td>\n",
       "      <td>0</td>\n",
       "      <td>52</td>\n",
       "      <td>0</td>\n",
       "      <td>0</td>\n",
       "      <td>0</td>\n",
       "      <td>0</td>\n",
       "      <td>0</td>\n",
       "      <td>0</td>\n",
       "      <td>0</td>\n",
       "      <td>0</td>\n",
       "      <td>1</td>\n",
       "      <td>2010</td>\n",
       "      <td>WD</td>\n",
       "      <td>109000</td>\n",
       "    </tr>\n",
       "    <tr>\n",
       "      <th>3</th>\n",
       "      <td>60</td>\n",
       "      <td>3</td>\n",
       "      <td>73.0</td>\n",
       "      <td>9802</td>\n",
       "      <td>1</td>\n",
       "      <td>1</td>\n",
       "      <td>2</td>\n",
       "      <td>1</td>\n",
       "      <td>1</td>\n",
       "      <td>2</td>\n",
       "      <td>1</td>\n",
       "      <td>1</td>\n",
       "      <td>1</td>\n",
       "      <td>1</td>\n",
       "      <td>1</td>\n",
       "      <td>2</td>\n",
       "      <td>5</td>\n",
       "      <td>5</td>\n",
       "      <td>2006</td>\n",
       "      <td>2007</td>\n",
       "      <td>2</td>\n",
       "      <td>1</td>\n",
       "      <td>3</td>\n",
       "      <td>3</td>\n",
       "      <td>2</td>\n",
       "      <td>0.0</td>\n",
       "      <td>3</td>\n",
       "      <td>3</td>\n",
       "      <td>2</td>\n",
       "      <td>4</td>\n",
       "      <td>3</td>\n",
       "      <td>1</td>\n",
       "      <td>1</td>\n",
       "      <td>0.0</td>\n",
       "      <td>1</td>\n",
       "      <td>0.0</td>\n",
       "      <td>384.0</td>\n",
       "      <td>384.0</td>\n",
       "      <td>1</td>\n",
       "      <td>4</td>\n",
       "      <td>1</td>\n",
       "      <td>2</td>\n",
       "      <td>744</td>\n",
       "      <td>700</td>\n",
       "      <td>0</td>\n",
       "      <td>1444</td>\n",
       "      <td>0.0</td>\n",
       "      <td>0.0</td>\n",
       "      <td>2</td>\n",
       "      <td>1</td>\n",
       "      <td>3</td>\n",
       "      <td>1</td>\n",
       "      <td>3</td>\n",
       "      <td>7</td>\n",
       "      <td>2</td>\n",
       "      <td>0</td>\n",
       "      <td>0</td>\n",
       "      <td>3</td>\n",
       "      <td>2007.0</td>\n",
       "      <td>3</td>\n",
       "      <td>2.0</td>\n",
       "      <td>400.0</td>\n",
       "      <td>3</td>\n",
       "      <td>3</td>\n",
       "      <td>2</td>\n",
       "      <td>100</td>\n",
       "      <td>0</td>\n",
       "      <td>0</td>\n",
       "      <td>0</td>\n",
       "      <td>0</td>\n",
       "      <td>0</td>\n",
       "      <td>0</td>\n",
       "      <td>0</td>\n",
       "      <td>0</td>\n",
       "      <td>0</td>\n",
       "      <td>4</td>\n",
       "      <td>2010</td>\n",
       "      <td>WD</td>\n",
       "      <td>174000</td>\n",
       "    </tr>\n",
       "    <tr>\n",
       "      <th>4</th>\n",
       "      <td>50</td>\n",
       "      <td>3</td>\n",
       "      <td>82.0</td>\n",
       "      <td>14235</td>\n",
       "      <td>1</td>\n",
       "      <td>1</td>\n",
       "      <td>1</td>\n",
       "      <td>1</td>\n",
       "      <td>1</td>\n",
       "      <td>2</td>\n",
       "      <td>1</td>\n",
       "      <td>0</td>\n",
       "      <td>1</td>\n",
       "      <td>1</td>\n",
       "      <td>1</td>\n",
       "      <td>1</td>\n",
       "      <td>6</td>\n",
       "      <td>8</td>\n",
       "      <td>1900</td>\n",
       "      <td>1993</td>\n",
       "      <td>2</td>\n",
       "      <td>1</td>\n",
       "      <td>1</td>\n",
       "      <td>1</td>\n",
       "      <td>2</td>\n",
       "      <td>0.0</td>\n",
       "      <td>3</td>\n",
       "      <td>3</td>\n",
       "      <td>2</td>\n",
       "      <td>2</td>\n",
       "      <td>4</td>\n",
       "      <td>1</td>\n",
       "      <td>1</td>\n",
       "      <td>0.0</td>\n",
       "      <td>1</td>\n",
       "      <td>0.0</td>\n",
       "      <td>676.0</td>\n",
       "      <td>676.0</td>\n",
       "      <td>1</td>\n",
       "      <td>3</td>\n",
       "      <td>1</td>\n",
       "      <td>2</td>\n",
       "      <td>831</td>\n",
       "      <td>614</td>\n",
       "      <td>0</td>\n",
       "      <td>1445</td>\n",
       "      <td>0.0</td>\n",
       "      <td>0.0</td>\n",
       "      <td>2</td>\n",
       "      <td>0</td>\n",
       "      <td>3</td>\n",
       "      <td>1</td>\n",
       "      <td>3</td>\n",
       "      <td>6</td>\n",
       "      <td>2</td>\n",
       "      <td>0</td>\n",
       "      <td>0</td>\n",
       "      <td>1</td>\n",
       "      <td>1957.0</td>\n",
       "      <td>1</td>\n",
       "      <td>2.0</td>\n",
       "      <td>484.0</td>\n",
       "      <td>3</td>\n",
       "      <td>3</td>\n",
       "      <td>0</td>\n",
       "      <td>0</td>\n",
       "      <td>59</td>\n",
       "      <td>0</td>\n",
       "      <td>0</td>\n",
       "      <td>0</td>\n",
       "      <td>0</td>\n",
       "      <td>0</td>\n",
       "      <td>0</td>\n",
       "      <td>0</td>\n",
       "      <td>0</td>\n",
       "      <td>3</td>\n",
       "      <td>2010</td>\n",
       "      <td>WD</td>\n",
       "      <td>138500</td>\n",
       "    </tr>\n",
       "  </tbody>\n",
       "</table>\n",
       "</div>"
      ],
      "text/plain": [
       "   ms_subclass  ms_zoning  lot_frontage  lot_area  street  alley  lot_shape  \\\n",
       "0           60          3          68.0     13517       1      1          1   \n",
       "1           60          3          43.0     11492       1      1          1   \n",
       "2           20          3          68.0      7922       1      1          2   \n",
       "3           60          3          73.0      9802       1      1          2   \n",
       "4           50          3          82.0     14235       1      1          1   \n",
       "\n",
       "   land_contour  utilities  lot_config  land_slope neighborhood  condition_1  \\\n",
       "0             1          1           1           1            0            0   \n",
       "1             1          1           1           1            0            1   \n",
       "2             1          1           2           1            0            1   \n",
       "3             1          1           2           1            1            1   \n",
       "4             1          1           2           1            0            1   \n",
       "\n",
       "   condition_2  bldg_type  house_style  overall_qual  overall_cond  \\\n",
       "0            1          1            2             6             8   \n",
       "1            1          1            2             7             5   \n",
       "2            1          1            2             5             7   \n",
       "3            1          1            2             5             5   \n",
       "4            1          1            1             6             8   \n",
       "\n",
       "   year_built  year_remod/add  roof_style  roof_matl  exterior_1st  \\\n",
       "0        1976            2005           2          1             2   \n",
       "1        1996            1997           2          1             3   \n",
       "2        1953            2007           2          1             3   \n",
       "3        2006            2007           2          1             3   \n",
       "4        1900            1993           2          1             1   \n",
       "\n",
       "  exterior_2nd  mas_vnr_type  mas_vnr_area  exter_qual  exter_cond  \\\n",
       "0            1             1         289.0           4           3   \n",
       "1            3             1         132.0           4           3   \n",
       "2            3             2           0.0           3           4   \n",
       "3            3             2           0.0           3           3   \n",
       "4            1             2           0.0           3           3   \n",
       "\n",
       "   foundation  bsmt_qual  bsmt_cond  bsmt_exposure  bsmtfin_type_1  \\\n",
       "0           2          3          3              1               6   \n",
       "1           2          4          3              1               6   \n",
       "2           2          3          3              1               6   \n",
       "3           2          4          3              1               1   \n",
       "4           2          2          4              1               1   \n",
       "\n",
       "   bsmtfin_sf_1  bsmtfin_type_2  bsmtfin_sf_2  bsmt_unf_sf  total_bsmt_sf  \\\n",
       "0         533.0               1           0.0        192.0          725.0   \n",
       "1         637.0               1           0.0        276.0          913.0   \n",
       "2         731.0               1           0.0        326.0         1057.0   \n",
       "3           0.0               1           0.0        384.0          384.0   \n",
       "4           0.0               1           0.0        676.0          676.0   \n",
       "\n",
       "   heating  heating_qc  central_air  electrical  1st_flr_sf  2nd_flr_sf  \\\n",
       "0        1           5            1           2         725         754   \n",
       "1        1           5            1           2         913        1209   \n",
       "2        1           3            1           2        1057           0   \n",
       "3        1           4            1           2         744         700   \n",
       "4        1           3            1           2         831         614   \n",
       "\n",
       "   low_qual_fin_sf  gr_liv_area  bsmt_full_bath  bsmt_half_bath  full_bath  \\\n",
       "0                0         1479             0.0             0.0          2   \n",
       "1                0         2122             1.0             0.0          2   \n",
       "2                0         1057             1.0             0.0          1   \n",
       "3                0         1444             0.0             0.0          2   \n",
       "4                0         1445             0.0             0.0          2   \n",
       "\n",
       "   half_bath  bedroom_abvgr  kitchen_abvgr  kitchen_qual  totrms_abvgrd  \\\n",
       "0          1              3              1             4              6   \n",
       "1          1              4              1             4              8   \n",
       "2          0              3              1             4              5   \n",
       "3          1              3              1             3              7   \n",
       "4          0              3              1             3              6   \n",
       "\n",
       "  functional  fireplaces  fireplace_qu  garage_type  garage_yr_blt  \\\n",
       "0          2           0             0            5         1976.0   \n",
       "1          2           1             3            5         1997.0   \n",
       "2          2           0             0            1         1953.0   \n",
       "3          2           0             0            3         2007.0   \n",
       "4          2           0             0            1         1957.0   \n",
       "\n",
       "   garage_finish  garage_cars  garage_area  garage_qual  garage_cond  \\\n",
       "0              2          2.0        475.0            3            3   \n",
       "1              2          2.0        559.0            3            3   \n",
       "2              1          1.0        246.0            3            3   \n",
       "3              3          2.0        400.0            3            3   \n",
       "4              1          2.0        484.0            3            3   \n",
       "\n",
       "   paved_drive  wood_deck_sf  open_porch_sf  enclosed_porch  3ssn_porch  \\\n",
       "0            2             0             44               0           0   \n",
       "1            2             0             74               0           0   \n",
       "2            2             0             52               0           0   \n",
       "3            2           100              0               0           0   \n",
       "4            0             0             59               0           0   \n",
       "\n",
       "   screen_porch  pool_area  pool_qc fence  misc_feature  misc_val  mo_sold  \\\n",
       "0             0          0        0     0             0         0        3   \n",
       "1             0          0        0     0             0         0        4   \n",
       "2             0          0        0     0             0         0        1   \n",
       "3             0          0        0     0             0         0        4   \n",
       "4             0          0        0     0             0         0        3   \n",
       "\n",
       "   yr_sold sale_type  saleprice  \n",
       "0     2010       WD      130500  \n",
       "1     2009       WD      220000  \n",
       "2     2010       WD      109000  \n",
       "3     2010       WD      174000  \n",
       "4     2010       WD      138500  "
      ]
     },
     "execution_count": 3,
     "metadata": {},
     "output_type": "execute_result"
    }
   ],
   "source": [
    "ames_df.head()"
   ]
  },
  {
   "cell_type": "code",
   "execution_count": 4,
   "id": "a950a656-7f01-459b-a27c-790196437efd",
   "metadata": {},
   "outputs": [
    {
     "data": {
      "text/html": [
       "<div>\n",
       "<style scoped>\n",
       "    .dataframe tbody tr th:only-of-type {\n",
       "        vertical-align: middle;\n",
       "    }\n",
       "\n",
       "    .dataframe tbody tr th {\n",
       "        vertical-align: top;\n",
       "    }\n",
       "\n",
       "    .dataframe thead th {\n",
       "        text-align: right;\n",
       "    }\n",
       "</style>\n",
       "<table border=\"1\" class=\"dataframe\">\n",
       "  <thead>\n",
       "    <tr style=\"text-align: right;\">\n",
       "      <th></th>\n",
       "      <th>ms_subclass</th>\n",
       "      <th>ms_zoning</th>\n",
       "      <th>lot_frontage</th>\n",
       "      <th>lot_area</th>\n",
       "      <th>street</th>\n",
       "      <th>alley</th>\n",
       "      <th>lot_shape</th>\n",
       "      <th>land_contour</th>\n",
       "      <th>utilities</th>\n",
       "      <th>lot_config</th>\n",
       "      <th>land_slope</th>\n",
       "      <th>neighborhood</th>\n",
       "      <th>condition_1</th>\n",
       "      <th>condition_2</th>\n",
       "      <th>bldg_type</th>\n",
       "      <th>house_style</th>\n",
       "      <th>overall_qual</th>\n",
       "      <th>overall_cond</th>\n",
       "      <th>year_built</th>\n",
       "      <th>year_remod/add</th>\n",
       "      <th>roof_style</th>\n",
       "      <th>roof_matl</th>\n",
       "      <th>exterior_1st</th>\n",
       "      <th>exterior_2nd</th>\n",
       "      <th>mas_vnr_type</th>\n",
       "      <th>mas_vnr_area</th>\n",
       "      <th>exter_qual</th>\n",
       "      <th>exter_cond</th>\n",
       "      <th>foundation</th>\n",
       "      <th>bsmt_qual</th>\n",
       "      <th>bsmt_cond</th>\n",
       "      <th>bsmt_exposure</th>\n",
       "      <th>bsmtfin_type_1</th>\n",
       "      <th>bsmtfin_sf_1</th>\n",
       "      <th>bsmtfin_type_2</th>\n",
       "      <th>bsmtfin_sf_2</th>\n",
       "      <th>bsmt_unf_sf</th>\n",
       "      <th>total_bsmt_sf</th>\n",
       "      <th>heating</th>\n",
       "      <th>heating_qc</th>\n",
       "      <th>central_air</th>\n",
       "      <th>electrical</th>\n",
       "      <th>1st_flr_sf</th>\n",
       "      <th>2nd_flr_sf</th>\n",
       "      <th>low_qual_fin_sf</th>\n",
       "      <th>gr_liv_area</th>\n",
       "      <th>bsmt_full_bath</th>\n",
       "      <th>bsmt_half_bath</th>\n",
       "      <th>full_bath</th>\n",
       "      <th>half_bath</th>\n",
       "      <th>bedroom_abvgr</th>\n",
       "      <th>kitchen_abvgr</th>\n",
       "      <th>kitchen_qual</th>\n",
       "      <th>totrms_abvgrd</th>\n",
       "      <th>functional</th>\n",
       "      <th>fireplaces</th>\n",
       "      <th>fireplace_qu</th>\n",
       "      <th>garage_type</th>\n",
       "      <th>garage_yr_blt</th>\n",
       "      <th>garage_finish</th>\n",
       "      <th>garage_cars</th>\n",
       "      <th>garage_area</th>\n",
       "      <th>garage_qual</th>\n",
       "      <th>garage_cond</th>\n",
       "      <th>paved_drive</th>\n",
       "      <th>wood_deck_sf</th>\n",
       "      <th>open_porch_sf</th>\n",
       "      <th>enclosed_porch</th>\n",
       "      <th>3ssn_porch</th>\n",
       "      <th>screen_porch</th>\n",
       "      <th>pool_area</th>\n",
       "      <th>pool_qc</th>\n",
       "      <th>fence</th>\n",
       "      <th>misc_feature</th>\n",
       "      <th>misc_val</th>\n",
       "      <th>mo_sold</th>\n",
       "      <th>yr_sold</th>\n",
       "      <th>sale_type</th>\n",
       "    </tr>\n",
       "  </thead>\n",
       "  <tbody>\n",
       "    <tr>\n",
       "      <th>0</th>\n",
       "      <td>190</td>\n",
       "      <td>RM</td>\n",
       "      <td>69.0</td>\n",
       "      <td>9142</td>\n",
       "      <td>Pave</td>\n",
       "      <td>Grvl</td>\n",
       "      <td>Reg</td>\n",
       "      <td>Lvl</td>\n",
       "      <td>AllPub</td>\n",
       "      <td>Inside</td>\n",
       "      <td>Gtl</td>\n",
       "      <td>OldTown</td>\n",
       "      <td>Norm</td>\n",
       "      <td>Norm</td>\n",
       "      <td>2fmCon</td>\n",
       "      <td>2Story</td>\n",
       "      <td>6</td>\n",
       "      <td>8</td>\n",
       "      <td>1910</td>\n",
       "      <td>1950</td>\n",
       "      <td>Gable</td>\n",
       "      <td>CompShg</td>\n",
       "      <td>AsbShng</td>\n",
       "      <td>AsbShng</td>\n",
       "      <td>None</td>\n",
       "      <td>0.0</td>\n",
       "      <td>TA</td>\n",
       "      <td>Fa</td>\n",
       "      <td>Stone</td>\n",
       "      <td>Fa</td>\n",
       "      <td>TA</td>\n",
       "      <td>No</td>\n",
       "      <td>Unf</td>\n",
       "      <td>0</td>\n",
       "      <td>Unf</td>\n",
       "      <td>0</td>\n",
       "      <td>1020</td>\n",
       "      <td>1020</td>\n",
       "      <td>GasA</td>\n",
       "      <td>Gd</td>\n",
       "      <td>N</td>\n",
       "      <td>FuseP</td>\n",
       "      <td>908</td>\n",
       "      <td>1020</td>\n",
       "      <td>0</td>\n",
       "      <td>1928</td>\n",
       "      <td>0</td>\n",
       "      <td>0</td>\n",
       "      <td>2</td>\n",
       "      <td>0</td>\n",
       "      <td>4</td>\n",
       "      <td>2</td>\n",
       "      <td>Fa</td>\n",
       "      <td>9</td>\n",
       "      <td>Typ</td>\n",
       "      <td>0</td>\n",
       "      <td>NoFrPl</td>\n",
       "      <td>Detchd</td>\n",
       "      <td>1910.0</td>\n",
       "      <td>Unf</td>\n",
       "      <td>1</td>\n",
       "      <td>440</td>\n",
       "      <td>Po</td>\n",
       "      <td>Po</td>\n",
       "      <td>Y</td>\n",
       "      <td>0</td>\n",
       "      <td>60</td>\n",
       "      <td>112</td>\n",
       "      <td>0</td>\n",
       "      <td>0</td>\n",
       "      <td>0</td>\n",
       "      <td>NoPl</td>\n",
       "      <td>NoFnc</td>\n",
       "      <td>NoMisc</td>\n",
       "      <td>0</td>\n",
       "      <td>4</td>\n",
       "      <td>2006</td>\n",
       "      <td>WD</td>\n",
       "    </tr>\n",
       "    <tr>\n",
       "      <th>1</th>\n",
       "      <td>90</td>\n",
       "      <td>RL</td>\n",
       "      <td>68.0</td>\n",
       "      <td>9662</td>\n",
       "      <td>Pave</td>\n",
       "      <td>NoAlley</td>\n",
       "      <td>IR1</td>\n",
       "      <td>Lvl</td>\n",
       "      <td>AllPub</td>\n",
       "      <td>Inside</td>\n",
       "      <td>Gtl</td>\n",
       "      <td>Sawyer</td>\n",
       "      <td>Norm</td>\n",
       "      <td>Norm</td>\n",
       "      <td>Duplex</td>\n",
       "      <td>1Story</td>\n",
       "      <td>5</td>\n",
       "      <td>4</td>\n",
       "      <td>1977</td>\n",
       "      <td>1977</td>\n",
       "      <td>Gable</td>\n",
       "      <td>CompShg</td>\n",
       "      <td>Plywood</td>\n",
       "      <td>Plywood</td>\n",
       "      <td>None</td>\n",
       "      <td>0.0</td>\n",
       "      <td>TA</td>\n",
       "      <td>TA</td>\n",
       "      <td>CBlock</td>\n",
       "      <td>Gd</td>\n",
       "      <td>TA</td>\n",
       "      <td>No</td>\n",
       "      <td>Unf</td>\n",
       "      <td>0</td>\n",
       "      <td>Unf</td>\n",
       "      <td>0</td>\n",
       "      <td>1967</td>\n",
       "      <td>1967</td>\n",
       "      <td>GasA</td>\n",
       "      <td>TA</td>\n",
       "      <td>Y</td>\n",
       "      <td>SBrkr</td>\n",
       "      <td>1967</td>\n",
       "      <td>0</td>\n",
       "      <td>0</td>\n",
       "      <td>1967</td>\n",
       "      <td>0</td>\n",
       "      <td>0</td>\n",
       "      <td>2</td>\n",
       "      <td>0</td>\n",
       "      <td>6</td>\n",
       "      <td>2</td>\n",
       "      <td>TA</td>\n",
       "      <td>10</td>\n",
       "      <td>Typ</td>\n",
       "      <td>0</td>\n",
       "      <td>NoFrPl</td>\n",
       "      <td>Attchd</td>\n",
       "      <td>1977.0</td>\n",
       "      <td>Fin</td>\n",
       "      <td>2</td>\n",
       "      <td>580</td>\n",
       "      <td>TA</td>\n",
       "      <td>TA</td>\n",
       "      <td>Y</td>\n",
       "      <td>170</td>\n",
       "      <td>0</td>\n",
       "      <td>0</td>\n",
       "      <td>0</td>\n",
       "      <td>0</td>\n",
       "      <td>0</td>\n",
       "      <td>NoPl</td>\n",
       "      <td>NoFnc</td>\n",
       "      <td>NoMisc</td>\n",
       "      <td>0</td>\n",
       "      <td>8</td>\n",
       "      <td>2006</td>\n",
       "      <td>WD</td>\n",
       "    </tr>\n",
       "    <tr>\n",
       "      <th>2</th>\n",
       "      <td>60</td>\n",
       "      <td>RL</td>\n",
       "      <td>58.0</td>\n",
       "      <td>17104</td>\n",
       "      <td>Pave</td>\n",
       "      <td>NoAlley</td>\n",
       "      <td>IR1</td>\n",
       "      <td>Lvl</td>\n",
       "      <td>AllPub</td>\n",
       "      <td>Inside</td>\n",
       "      <td>Gtl</td>\n",
       "      <td>Gilbert</td>\n",
       "      <td>Norm</td>\n",
       "      <td>Norm</td>\n",
       "      <td>1Fam</td>\n",
       "      <td>2Story</td>\n",
       "      <td>7</td>\n",
       "      <td>5</td>\n",
       "      <td>2006</td>\n",
       "      <td>2006</td>\n",
       "      <td>Gable</td>\n",
       "      <td>CompShg</td>\n",
       "      <td>VinylSd</td>\n",
       "      <td>VinylSd</td>\n",
       "      <td>None</td>\n",
       "      <td>0.0</td>\n",
       "      <td>Gd</td>\n",
       "      <td>TA</td>\n",
       "      <td>PConc</td>\n",
       "      <td>Gd</td>\n",
       "      <td>Gd</td>\n",
       "      <td>Av</td>\n",
       "      <td>GLQ</td>\n",
       "      <td>554</td>\n",
       "      <td>Unf</td>\n",
       "      <td>0</td>\n",
       "      <td>100</td>\n",
       "      <td>654</td>\n",
       "      <td>GasA</td>\n",
       "      <td>Ex</td>\n",
       "      <td>Y</td>\n",
       "      <td>SBrkr</td>\n",
       "      <td>664</td>\n",
       "      <td>832</td>\n",
       "      <td>0</td>\n",
       "      <td>1496</td>\n",
       "      <td>1</td>\n",
       "      <td>0</td>\n",
       "      <td>2</td>\n",
       "      <td>1</td>\n",
       "      <td>3</td>\n",
       "      <td>1</td>\n",
       "      <td>Gd</td>\n",
       "      <td>7</td>\n",
       "      <td>Typ</td>\n",
       "      <td>1</td>\n",
       "      <td>Gd</td>\n",
       "      <td>Attchd</td>\n",
       "      <td>2006.0</td>\n",
       "      <td>RFn</td>\n",
       "      <td>2</td>\n",
       "      <td>426</td>\n",
       "      <td>TA</td>\n",
       "      <td>TA</td>\n",
       "      <td>Y</td>\n",
       "      <td>100</td>\n",
       "      <td>24</td>\n",
       "      <td>0</td>\n",
       "      <td>0</td>\n",
       "      <td>0</td>\n",
       "      <td>0</td>\n",
       "      <td>NoPl</td>\n",
       "      <td>NoFnc</td>\n",
       "      <td>NoMisc</td>\n",
       "      <td>0</td>\n",
       "      <td>9</td>\n",
       "      <td>2006</td>\n",
       "      <td>New</td>\n",
       "    </tr>\n",
       "    <tr>\n",
       "      <th>3</th>\n",
       "      <td>30</td>\n",
       "      <td>RM</td>\n",
       "      <td>60.0</td>\n",
       "      <td>8520</td>\n",
       "      <td>Pave</td>\n",
       "      <td>NoAlley</td>\n",
       "      <td>Reg</td>\n",
       "      <td>Lvl</td>\n",
       "      <td>AllPub</td>\n",
       "      <td>Inside</td>\n",
       "      <td>Gtl</td>\n",
       "      <td>OldTown</td>\n",
       "      <td>Norm</td>\n",
       "      <td>Norm</td>\n",
       "      <td>1Fam</td>\n",
       "      <td>1Story</td>\n",
       "      <td>5</td>\n",
       "      <td>6</td>\n",
       "      <td>1923</td>\n",
       "      <td>2006</td>\n",
       "      <td>Gable</td>\n",
       "      <td>CompShg</td>\n",
       "      <td>Wd Sdng</td>\n",
       "      <td>Wd Sdng</td>\n",
       "      <td>None</td>\n",
       "      <td>0.0</td>\n",
       "      <td>Gd</td>\n",
       "      <td>TA</td>\n",
       "      <td>CBlock</td>\n",
       "      <td>TA</td>\n",
       "      <td>TA</td>\n",
       "      <td>No</td>\n",
       "      <td>Unf</td>\n",
       "      <td>0</td>\n",
       "      <td>Unf</td>\n",
       "      <td>0</td>\n",
       "      <td>968</td>\n",
       "      <td>968</td>\n",
       "      <td>GasA</td>\n",
       "      <td>TA</td>\n",
       "      <td>Y</td>\n",
       "      <td>SBrkr</td>\n",
       "      <td>968</td>\n",
       "      <td>0</td>\n",
       "      <td>0</td>\n",
       "      <td>968</td>\n",
       "      <td>0</td>\n",
       "      <td>0</td>\n",
       "      <td>1</td>\n",
       "      <td>0</td>\n",
       "      <td>2</td>\n",
       "      <td>1</td>\n",
       "      <td>TA</td>\n",
       "      <td>5</td>\n",
       "      <td>Typ</td>\n",
       "      <td>0</td>\n",
       "      <td>NoFrPl</td>\n",
       "      <td>Detchd</td>\n",
       "      <td>1935.0</td>\n",
       "      <td>Unf</td>\n",
       "      <td>2</td>\n",
       "      <td>480</td>\n",
       "      <td>Fa</td>\n",
       "      <td>TA</td>\n",
       "      <td>N</td>\n",
       "      <td>0</td>\n",
       "      <td>0</td>\n",
       "      <td>184</td>\n",
       "      <td>0</td>\n",
       "      <td>0</td>\n",
       "      <td>0</td>\n",
       "      <td>NoPl</td>\n",
       "      <td>NoFnc</td>\n",
       "      <td>NoMisc</td>\n",
       "      <td>0</td>\n",
       "      <td>7</td>\n",
       "      <td>2007</td>\n",
       "      <td>WD</td>\n",
       "    </tr>\n",
       "    <tr>\n",
       "      <th>4</th>\n",
       "      <td>20</td>\n",
       "      <td>RL</td>\n",
       "      <td>68.0</td>\n",
       "      <td>9500</td>\n",
       "      <td>Pave</td>\n",
       "      <td>NoAlley</td>\n",
       "      <td>IR1</td>\n",
       "      <td>Lvl</td>\n",
       "      <td>AllPub</td>\n",
       "      <td>Inside</td>\n",
       "      <td>Gtl</td>\n",
       "      <td>NAmes</td>\n",
       "      <td>Norm</td>\n",
       "      <td>Norm</td>\n",
       "      <td>1Fam</td>\n",
       "      <td>1Story</td>\n",
       "      <td>6</td>\n",
       "      <td>5</td>\n",
       "      <td>1963</td>\n",
       "      <td>1963</td>\n",
       "      <td>Gable</td>\n",
       "      <td>CompShg</td>\n",
       "      <td>Plywood</td>\n",
       "      <td>Plywood</td>\n",
       "      <td>BrkFace</td>\n",
       "      <td>247.0</td>\n",
       "      <td>TA</td>\n",
       "      <td>TA</td>\n",
       "      <td>CBlock</td>\n",
       "      <td>Gd</td>\n",
       "      <td>TA</td>\n",
       "      <td>No</td>\n",
       "      <td>BLQ</td>\n",
       "      <td>609</td>\n",
       "      <td>Unf</td>\n",
       "      <td>0</td>\n",
       "      <td>785</td>\n",
       "      <td>1394</td>\n",
       "      <td>GasA</td>\n",
       "      <td>Gd</td>\n",
       "      <td>Y</td>\n",
       "      <td>SBrkr</td>\n",
       "      <td>1394</td>\n",
       "      <td>0</td>\n",
       "      <td>0</td>\n",
       "      <td>1394</td>\n",
       "      <td>1</td>\n",
       "      <td>0</td>\n",
       "      <td>1</td>\n",
       "      <td>1</td>\n",
       "      <td>3</td>\n",
       "      <td>1</td>\n",
       "      <td>TA</td>\n",
       "      <td>6</td>\n",
       "      <td>Typ</td>\n",
       "      <td>2</td>\n",
       "      <td>Gd</td>\n",
       "      <td>Attchd</td>\n",
       "      <td>1963.0</td>\n",
       "      <td>RFn</td>\n",
       "      <td>2</td>\n",
       "      <td>514</td>\n",
       "      <td>TA</td>\n",
       "      <td>TA</td>\n",
       "      <td>Y</td>\n",
       "      <td>0</td>\n",
       "      <td>76</td>\n",
       "      <td>0</td>\n",
       "      <td>0</td>\n",
       "      <td>185</td>\n",
       "      <td>0</td>\n",
       "      <td>NoPl</td>\n",
       "      <td>NoFnc</td>\n",
       "      <td>NoMisc</td>\n",
       "      <td>0</td>\n",
       "      <td>7</td>\n",
       "      <td>2009</td>\n",
       "      <td>WD</td>\n",
       "    </tr>\n",
       "  </tbody>\n",
       "</table>\n",
       "</div>"
      ],
      "text/plain": [
       "   ms_subclass ms_zoning  lot_frontage  lot_area street    alley lot_shape  \\\n",
       "0          190        RM          69.0      9142   Pave     Grvl       Reg   \n",
       "1           90        RL          68.0      9662   Pave  NoAlley       IR1   \n",
       "2           60        RL          58.0     17104   Pave  NoAlley       IR1   \n",
       "3           30        RM          60.0      8520   Pave  NoAlley       Reg   \n",
       "4           20        RL          68.0      9500   Pave  NoAlley       IR1   \n",
       "\n",
       "  land_contour utilities lot_config land_slope neighborhood condition_1  \\\n",
       "0          Lvl    AllPub     Inside        Gtl      OldTown        Norm   \n",
       "1          Lvl    AllPub     Inside        Gtl       Sawyer        Norm   \n",
       "2          Lvl    AllPub     Inside        Gtl      Gilbert        Norm   \n",
       "3          Lvl    AllPub     Inside        Gtl      OldTown        Norm   \n",
       "4          Lvl    AllPub     Inside        Gtl        NAmes        Norm   \n",
       "\n",
       "  condition_2 bldg_type house_style  overall_qual  overall_cond  year_built  \\\n",
       "0        Norm    2fmCon      2Story             6             8        1910   \n",
       "1        Norm    Duplex      1Story             5             4        1977   \n",
       "2        Norm      1Fam      2Story             7             5        2006   \n",
       "3        Norm      1Fam      1Story             5             6        1923   \n",
       "4        Norm      1Fam      1Story             6             5        1963   \n",
       "\n",
       "   year_remod/add roof_style roof_matl exterior_1st exterior_2nd mas_vnr_type  \\\n",
       "0            1950      Gable   CompShg      AsbShng      AsbShng         None   \n",
       "1            1977      Gable   CompShg      Plywood      Plywood         None   \n",
       "2            2006      Gable   CompShg      VinylSd      VinylSd         None   \n",
       "3            2006      Gable   CompShg      Wd Sdng      Wd Sdng         None   \n",
       "4            1963      Gable   CompShg      Plywood      Plywood      BrkFace   \n",
       "\n",
       "   mas_vnr_area exter_qual exter_cond foundation bsmt_qual bsmt_cond  \\\n",
       "0           0.0         TA         Fa      Stone        Fa        TA   \n",
       "1           0.0         TA         TA     CBlock        Gd        TA   \n",
       "2           0.0         Gd         TA      PConc        Gd        Gd   \n",
       "3           0.0         Gd         TA     CBlock        TA        TA   \n",
       "4         247.0         TA         TA     CBlock        Gd        TA   \n",
       "\n",
       "  bsmt_exposure bsmtfin_type_1  bsmtfin_sf_1 bsmtfin_type_2  bsmtfin_sf_2  \\\n",
       "0            No            Unf             0            Unf             0   \n",
       "1            No            Unf             0            Unf             0   \n",
       "2            Av            GLQ           554            Unf             0   \n",
       "3            No            Unf             0            Unf             0   \n",
       "4            No            BLQ           609            Unf             0   \n",
       "\n",
       "   bsmt_unf_sf  total_bsmt_sf heating heating_qc central_air electrical  \\\n",
       "0         1020           1020    GasA         Gd           N      FuseP   \n",
       "1         1967           1967    GasA         TA           Y      SBrkr   \n",
       "2          100            654    GasA         Ex           Y      SBrkr   \n",
       "3          968            968    GasA         TA           Y      SBrkr   \n",
       "4          785           1394    GasA         Gd           Y      SBrkr   \n",
       "\n",
       "   1st_flr_sf  2nd_flr_sf  low_qual_fin_sf  gr_liv_area  bsmt_full_bath  \\\n",
       "0         908        1020                0         1928               0   \n",
       "1        1967           0                0         1967               0   \n",
       "2         664         832                0         1496               1   \n",
       "3         968           0                0          968               0   \n",
       "4        1394           0                0         1394               1   \n",
       "\n",
       "   bsmt_half_bath  full_bath  half_bath  bedroom_abvgr  kitchen_abvgr  \\\n",
       "0               0          2          0              4              2   \n",
       "1               0          2          0              6              2   \n",
       "2               0          2          1              3              1   \n",
       "3               0          1          0              2              1   \n",
       "4               0          1          1              3              1   \n",
       "\n",
       "  kitchen_qual  totrms_abvgrd functional  fireplaces fireplace_qu garage_type  \\\n",
       "0           Fa              9        Typ           0       NoFrPl      Detchd   \n",
       "1           TA             10        Typ           0       NoFrPl      Attchd   \n",
       "2           Gd              7        Typ           1           Gd      Attchd   \n",
       "3           TA              5        Typ           0       NoFrPl      Detchd   \n",
       "4           TA              6        Typ           2           Gd      Attchd   \n",
       "\n",
       "   garage_yr_blt garage_finish  garage_cars  garage_area garage_qual  \\\n",
       "0         1910.0           Unf            1          440          Po   \n",
       "1         1977.0           Fin            2          580          TA   \n",
       "2         2006.0           RFn            2          426          TA   \n",
       "3         1935.0           Unf            2          480          Fa   \n",
       "4         1963.0           RFn            2          514          TA   \n",
       "\n",
       "  garage_cond paved_drive  wood_deck_sf  open_porch_sf  enclosed_porch  \\\n",
       "0          Po           Y             0             60             112   \n",
       "1          TA           Y           170              0               0   \n",
       "2          TA           Y           100             24               0   \n",
       "3          TA           N             0              0             184   \n",
       "4          TA           Y             0             76               0   \n",
       "\n",
       "   3ssn_porch  screen_porch  pool_area pool_qc  fence misc_feature  misc_val  \\\n",
       "0           0             0          0    NoPl  NoFnc       NoMisc         0   \n",
       "1           0             0          0    NoPl  NoFnc       NoMisc         0   \n",
       "2           0             0          0    NoPl  NoFnc       NoMisc         0   \n",
       "3           0             0          0    NoPl  NoFnc       NoMisc         0   \n",
       "4           0           185          0    NoPl  NoFnc       NoMisc         0   \n",
       "\n",
       "   mo_sold  yr_sold sale_type  \n",
       "0        4     2006       WD   \n",
       "1        8     2006       WD   \n",
       "2        9     2006       New  \n",
       "3        7     2007       WD   \n",
       "4        7     2009       WD   "
      ]
     },
     "execution_count": 4,
     "metadata": {},
     "output_type": "execute_result"
    }
   ],
   "source": [
    "ames_test_df.head()"
   ]
  },
  {
   "cell_type": "code",
   "execution_count": 5,
   "id": "10bd6d6b-07d5-49cb-8837-8852ef4e7a4f",
   "metadata": {},
   "outputs": [
    {
     "data": {
      "text/plain": [
       "(2051, 79)"
      ]
     },
     "execution_count": 5,
     "metadata": {},
     "output_type": "execute_result"
    }
   ],
   "source": [
    "ames_df.shape"
   ]
  },
  {
   "cell_type": "code",
   "execution_count": 6,
   "id": "7d0f7393-8da3-44f1-bad8-8fd836ac1d27",
   "metadata": {},
   "outputs": [
    {
     "data": {
      "text/plain": [
       "(878, 78)"
      ]
     },
     "execution_count": 6,
     "metadata": {},
     "output_type": "execute_result"
    }
   ],
   "source": [
    "ames_test_df.shape"
   ]
  },
  {
   "cell_type": "markdown",
   "id": "6c30588d-275a-40ee-8b0d-57b1d8d72fd0",
   "metadata": {},
   "source": [
    "**Setting Features**"
   ]
  },
  {
   "cell_type": "code",
   "execution_count": 7,
   "id": "b38d1f4e-622c-419e-9196-00f0eb2a8561",
   "metadata": {},
   "outputs": [
    {
     "data": {
      "text/plain": [
       "Index(['overall_qual', 'exter_qual', 'gr_liv_area', 'kitchen_qual',\n",
       "       'garage_area', 'garage_cars', 'total_bsmt_sf', '1st_flr_sf',\n",
       "       'bsmt_qual', 'year_built', 'garage_finish', 'year_remod/add',\n",
       "       'fireplace_qu', 'full_bath', 'garage_yr_blt', 'totrms_abvgrd',\n",
       "       'mas_vnr_area', 'fireplaces', 'heating_qc', 'garage_type',\n",
       "       'bsmtfin_sf_1', 'bsmt_exposure', 'bsmtfin_type_1', 'open_porch_sf',\n",
       "       'wood_deck_sf', 'lot_frontage', 'lot_area', 'paved_drive',\n",
       "       'garage_qual', 'bsmt_full_bath', 'half_bath', 'central_air',\n",
       "       'garage_cond', 'foundation', 'electrical', '2nd_flr_sf', 'ms_zoning',\n",
       "       'bsmt_cond', 'exterior_1st', 'bldg_type', 'bsmt_unf_sf', 'house_style',\n",
       "       'bedroom_abvgr', 'alley', 'screen_porch', 'condition_1',\n",
       "       'kitchen_abvgr', 'enclosed_porch', 'roof_style', 'lot_shape',\n",
       "       'mas_vnr_type'],\n",
       "      dtype='object')"
      ]
     },
     "execution_count": 7,
     "metadata": {},
     "output_type": "execute_result"
    }
   ],
   "source": [
    "ames_corr = ames_df.corr()['saleprice'][:-1]\n",
    "list_feats = ames_corr[(ames_corr > 0.10) | (ames_corr < -0.10)].sort_values(ascending = False).keys()\n",
    "list_feats"
   ]
  },
  {
   "cell_type": "markdown",
   "id": "8ee2a1ad-a1ea-42b1-8666-9a876de4110c",
   "metadata": {},
   "source": [
    "**Train-Test Split**"
   ]
  },
  {
   "cell_type": "code",
   "execution_count": 8,
   "id": "6868a957-3e4a-4d25-8b8a-c905add52fb3",
   "metadata": {},
   "outputs": [],
   "source": [
    "#setting features and target:\n",
    "X = ames_df[list_feats]\n",
    "y = ames_df[['saleprice']]"
   ]
  },
  {
   "cell_type": "code",
   "execution_count": 9,
   "id": "ed8fd2b5-fcd9-4f6e-b2e8-fdc0018ae353",
   "metadata": {},
   "outputs": [],
   "source": [
    "# Train/test split data\n",
    "X_train, X_test, y_train, y_test = train_test_split(X, y,\n",
    "                                                    test_size = 0.20,\n",
    "                                                    random_state = 42)"
   ]
  },
  {
   "cell_type": "code",
   "execution_count": 10,
   "id": "1d37c9d4-1fc1-40e3-b55c-c6059f022e8b",
   "metadata": {},
   "outputs": [
    {
     "data": {
      "text/plain": [
       "((1640, 51), (411, 51), (1640, 1), (411, 1))"
      ]
     },
     "execution_count": 10,
     "metadata": {},
     "output_type": "execute_result"
    }
   ],
   "source": [
    "# Check train/test shape\n",
    "X_train.shape, X_test.shape, y_train.shape, y_test.shape"
   ]
  },
  {
   "cell_type": "markdown",
   "id": "fcc5ebde-6c90-4c18-a881-04eb99f7f935",
   "metadata": {},
   "source": [
    "## Modeling"
   ]
  },
  {
   "cell_type": "markdown",
   "id": "dfeffd59-e45e-4380-ae1e-e9d65e6fa499",
   "metadata": {},
   "source": [
    "**Linear Regression**"
   ]
  },
  {
   "cell_type": "code",
   "execution_count": 11,
   "id": "2e7957f8-3552-4d87-9347-6eba82a2aed4",
   "metadata": {},
   "outputs": [
    {
     "name": "stdout",
     "output_type": "stream",
     "text": [
      "0.8411258777638544, 0.8752960624925732\n",
      "0.0341701847287188\n"
     ]
    }
   ],
   "source": [
    "lr_1 = LinearRegression()\n",
    "\n",
    "lr_1.fit(X_train, y_train)\n",
    "print(f'{lr_1.score(X_train, y_train)}, {lr_1.score(X_test, y_test)}')\n",
    "print(abs(lr_1.score(X_train, y_train) - lr_1.score(X_test, y_test)))"
   ]
  },
  {
   "cell_type": "code",
   "execution_count": 12,
   "id": "8de05b8b-3107-49ce-a1b5-1d0e1746be1d",
   "metadata": {},
   "outputs": [
    {
     "data": {
      "text/plain": [
       "(array([0.87166792, 0.82577027, 0.85289895, 0.80651756, 0.63037171]),\n",
       " array([0.85978705, 0.87807926, 0.90490501, 0.84530776, 0.86406725]))"
      ]
     },
     "execution_count": 12,
     "metadata": {},
     "output_type": "execute_result"
    }
   ],
   "source": [
    "cross_val_score(lr_1, X_train, y_train, cv = 5), cross_val_score(lr_1, X_test, y_test, cv = 5)"
   ]
  },
  {
   "cell_type": "code",
   "execution_count": 13,
   "id": "90e92277-8dd1-49ad-b713-b84fcfca8585",
   "metadata": {},
   "outputs": [
    {
     "data": {
      "text/plain": [
       "(0.7974452812656244, 0.8704292654118984)"
      ]
     },
     "execution_count": 13,
     "metadata": {},
     "output_type": "execute_result"
    }
   ],
   "source": [
    "cross_val_score(lr_1, X_train, y_train, cv = 5).mean(), cross_val_score(lr_1, X_test, y_test, cv = 5).mean()"
   ]
  },
  {
   "cell_type": "code",
   "execution_count": 14,
   "id": "1ebab0a4-c353-4db8-80d3-5a4388022eaf",
   "metadata": {},
   "outputs": [
    {
     "data": {
      "text/plain": [
       "array([0.84359525, 0.87262677, 0.76373762, 0.87319694, 0.78912717])"
      ]
     },
     "execution_count": 14,
     "metadata": {},
     "output_type": "execute_result"
    }
   ],
   "source": [
    "cross_val_score(lr_1, X, y, cv = 5)"
   ]
  },
  {
   "cell_type": "code",
   "execution_count": 15,
   "id": "3db14733-1cdc-468d-9589-d772d44198c6",
   "metadata": {},
   "outputs": [
    {
     "data": {
      "text/plain": [
       "0.8284567490108949"
      ]
     },
     "execution_count": 15,
     "metadata": {},
     "output_type": "execute_result"
    }
   ],
   "source": [
    "cross_val_score(lr_1, X, y, cv = 5).mean()"
   ]
  },
  {
   "cell_type": "code",
   "execution_count": 19,
   "id": "c5aba94b-5487-4d5f-ad1b-b6afa4437185",
   "metadata": {},
   "outputs": [],
   "source": [
    "def model_eval(true_val, pred_val):\n",
    "    rmse = mean_squared_error(true_val, pred_val, squared = False)\n",
    "    r2 = r2_score(true_val, pred_val)\n",
    "    \n",
    "    return f'RMSE: {rmse}', f'R2 Score: {r2}'"
   ]
  },
  {
   "cell_type": "code",
   "execution_count": 21,
   "id": "fb9ed24d-2838-4b72-87a3-38784058ecd0",
   "metadata": {},
   "outputs": [],
   "source": [
    "lr_1_preds = lr_1.predict(X_test)"
   ]
  },
  {
   "cell_type": "code",
   "execution_count": 22,
   "id": "3aa1f701-5a29-475e-9e10-1bf56159c930",
   "metadata": {},
   "outputs": [
    {
     "data": {
      "text/plain": [
       "('RMSE: 27220.036312363693', 'R2 Score: 0.8752960624925732')"
      ]
     },
     "execution_count": 22,
     "metadata": {},
     "output_type": "execute_result"
    }
   ],
   "source": [
    "model_eval(y_test, lr_1_preds)"
   ]
  },
  {
   "cell_type": "code",
   "execution_count": 16,
   "id": "ce409428-92de-4384-894a-a85fec41210c",
   "metadata": {},
   "outputs": [
    {
     "data": {
      "text/html": [
       "<div>\n",
       "<style scoped>\n",
       "    .dataframe tbody tr th:only-of-type {\n",
       "        vertical-align: middle;\n",
       "    }\n",
       "\n",
       "    .dataframe tbody tr th {\n",
       "        vertical-align: top;\n",
       "    }\n",
       "\n",
       "    .dataframe thead th {\n",
       "        text-align: right;\n",
       "    }\n",
       "</style>\n",
       "<table border=\"1\" class=\"dataframe\">\n",
       "  <thead>\n",
       "    <tr style=\"text-align: right;\">\n",
       "      <th></th>\n",
       "      <th>feature</th>\n",
       "      <th>abscoef</th>\n",
       "    </tr>\n",
       "  </thead>\n",
       "  <tbody>\n",
       "    <tr>\n",
       "      <th>1</th>\n",
       "      <td>exter_qual</td>\n",
       "      <td>14649.656384</td>\n",
       "    </tr>\n",
       "    <tr>\n",
       "      <th>0</th>\n",
       "      <td>overall_qual</td>\n",
       "      <td>12490.376993</td>\n",
       "    </tr>\n",
       "    <tr>\n",
       "      <th>39</th>\n",
       "      <td>bldg_type</td>\n",
       "      <td>11860.975836</td>\n",
       "    </tr>\n",
       "    <tr>\n",
       "      <th>3</th>\n",
       "      <td>kitchen_qual</td>\n",
       "      <td>10814.863847</td>\n",
       "    </tr>\n",
       "    <tr>\n",
       "      <th>29</th>\n",
       "      <td>bsmt_full_bath</td>\n",
       "      <td>9128.733635</td>\n",
       "    </tr>\n",
       "    <tr>\n",
       "      <th>43</th>\n",
       "      <td>alley</td>\n",
       "      <td>8348.804226</td>\n",
       "    </tr>\n",
       "    <tr>\n",
       "      <th>32</th>\n",
       "      <td>garage_cond</td>\n",
       "      <td>7824.940568</td>\n",
       "    </tr>\n",
       "    <tr>\n",
       "      <th>8</th>\n",
       "      <td>bsmt_qual</td>\n",
       "      <td>6880.091449</td>\n",
       "    </tr>\n",
       "    <tr>\n",
       "      <th>37</th>\n",
       "      <td>bsmt_cond</td>\n",
       "      <td>6034.913028</td>\n",
       "    </tr>\n",
       "    <tr>\n",
       "      <th>45</th>\n",
       "      <td>condition_1</td>\n",
       "      <td>5809.968673</td>\n",
       "    </tr>\n",
       "  </tbody>\n",
       "</table>\n",
       "</div>"
      ],
      "text/plain": [
       "           feature       abscoef\n",
       "1       exter_qual  14649.656384\n",
       "0     overall_qual  12490.376993\n",
       "39       bldg_type  11860.975836\n",
       "3     kitchen_qual  10814.863847\n",
       "29  bsmt_full_bath   9128.733635\n",
       "43           alley   8348.804226\n",
       "32     garage_cond   7824.940568\n",
       "8        bsmt_qual   6880.091449\n",
       "37       bsmt_cond   6034.913028\n",
       "45     condition_1   5809.968673"
      ]
     },
     "execution_count": 16,
     "metadata": {},
     "output_type": "execute_result"
    }
   ],
   "source": [
    "#sorting features by the absolutely size of their coefficient (without respect for positive or negative)\n",
    "lr_features = pd.DataFrame(X_train.columns, columns = ['feature'])\n",
    "lr_features['abscoef'] = np.abs(lr_1.coef_)[0]\n",
    "lr_features.sort_values(by='abscoef', ascending = False).head(10)"
   ]
  },
  {
   "cell_type": "markdown",
   "id": "fbe69fbb-e330-470d-9861-ddd9b91efbe0",
   "metadata": {},
   "source": [
    "**Huber Regressor**"
   ]
  },
  {
   "cell_type": "code",
   "execution_count": 17,
   "id": "ce31b0a2-8ae9-45af-88fb-55b0e287175a",
   "metadata": {},
   "outputs": [
    {
     "data": {
      "text/plain": [
       "(0.820107501641, 0.886503652227477)"
      ]
     },
     "execution_count": 17,
     "metadata": {},
     "output_type": "execute_result"
    }
   ],
   "source": [
    "#https://machinelearningmastery.com/robust-regression-for-machine-learning-in-python/\n",
    "huber = HuberRegressor(max_iter = 50_000)\n",
    "\n",
    "huber.fit(X_train, y_train['saleprice'])\n",
    "huber.score(X_train, y_train['saleprice']), huber.score(X_test, y_test['saleprice'])"
   ]
  },
  {
   "cell_type": "code",
   "execution_count": 18,
   "id": "a80e2e28-a14e-44d5-956a-3b50bd0b4f1e",
   "metadata": {},
   "outputs": [],
   "source": [
    "huber_preds = huber.predict(X_test)"
   ]
  },
  {
   "cell_type": "code",
   "execution_count": 20,
   "id": "3ed0e9e0-1bd8-4f3c-a5ba-fe679cc33cd7",
   "metadata": {},
   "outputs": [
    {
     "data": {
      "text/plain": [
       "('RMSE: 25968.063246757178', 'R2 Score: 0.886503652227477')"
      ]
     },
     "execution_count": 20,
     "metadata": {},
     "output_type": "execute_result"
    }
   ],
   "source": [
    "model_eval(y_test, huber_preds)"
   ]
  },
  {
   "cell_type": "markdown",
   "id": "cc888de6-8004-4f8c-ad8e-ab9711fc50d2",
   "metadata": {},
   "source": [
    "**Scaling with Standard Scaler**"
   ]
  },
  {
   "cell_type": "code",
   "execution_count": 23,
   "id": "bd6ec88f-77fa-47b3-b0fd-1518c950c994",
   "metadata": {},
   "outputs": [],
   "source": [
    "sc = StandardScaler()\n",
    "\n",
    "X_train_sc = sc.fit_transform(X_train)\n",
    "X_test_sc = sc.transform(X_test)"
   ]
  },
  {
   "cell_type": "code",
   "execution_count": 24,
   "id": "9fa7c917-4881-43de-8d86-e3ec09aac3d7",
   "metadata": {},
   "outputs": [
    {
     "data": {
      "text/plain": [
       "(0.8411258777638544, 0.8752960624925663)"
      ]
     },
     "execution_count": 24,
     "metadata": {},
     "output_type": "execute_result"
    }
   ],
   "source": [
    "lr_1.fit(X_train_sc, y_train)\n",
    "lr_1.score(X_train_sc, y_train), lr_1.score(X_test_sc, y_test)"
   ]
  },
  {
   "cell_type": "code",
   "execution_count": 25,
   "id": "4d49cf78-6ac8-4f61-b403-65db6c60ef98",
   "metadata": {},
   "outputs": [
    {
     "data": {
      "text/plain": [
       "array([0.84359525, 0.87262677, 0.76373762, 0.87319694, 0.78912717])"
      ]
     },
     "execution_count": 25,
     "metadata": {},
     "output_type": "execute_result"
    }
   ],
   "source": [
    "cross_val_score(lr_1, X, y, cv = 5)"
   ]
  },
  {
   "cell_type": "code",
   "execution_count": 26,
   "id": "12f02dd9-536f-4a28-8559-aed885d300cb",
   "metadata": {},
   "outputs": [
    {
     "data": {
      "text/plain": [
       "0.8284567490108949"
      ]
     },
     "execution_count": 26,
     "metadata": {},
     "output_type": "execute_result"
    }
   ],
   "source": [
    "cross_val_score(lr_1, X, y, cv = 5).mean()"
   ]
  },
  {
   "cell_type": "markdown",
   "id": "eaec6b42-7b4d-448a-a9de-eda2debc7848",
   "metadata": {},
   "source": [
    "**LASSO**"
   ]
  },
  {
   "cell_type": "code",
   "execution_count": 27,
   "id": "c6fd4010-067a-4a4f-a791-03b074f50151",
   "metadata": {},
   "outputs": [
    {
     "data": {
      "text/plain": [
       "(1640, 1)"
      ]
     },
     "execution_count": 27,
     "metadata": {},
     "output_type": "execute_result"
    }
   ],
   "source": [
    "y_train.shape"
   ]
  },
  {
   "cell_type": "code",
   "execution_count": 28,
   "id": "cab64ee1-ecff-4981-858c-0bfdc75e4e71",
   "metadata": {},
   "outputs": [
    {
     "data": {
      "text/plain": [
       "(1640,)"
      ]
     },
     "execution_count": 28,
     "metadata": {},
     "output_type": "execute_result"
    }
   ],
   "source": [
    "y_train['saleprice'].shape"
   ]
  },
  {
   "cell_type": "code",
   "execution_count": 29,
   "id": "aa5e8112-e7cd-47f9-b8dd-23dad172a756",
   "metadata": {},
   "outputs": [
    {
     "data": {
      "text/plain": [
       "(0.8380414073383797, 0.8767392063265569)"
      ]
     },
     "execution_count": 29,
     "metadata": {},
     "output_type": "execute_result"
    }
   ],
   "source": [
    "l_alphas = np.logspace(-3, 3, 100)\n",
    "\n",
    "lasso = LassoCV(alphas = l_alphas,\n",
    "                cv = 5,\n",
    "                max_iter = 50_000)\n",
    "\n",
    "lasso.fit(X_train_sc, y_train['saleprice'])\n",
    "lasso.score(X_train_sc, y_train['saleprice']), lasso.score(X_test_sc, y_test['saleprice'])"
   ]
  },
  {
   "cell_type": "code",
   "execution_count": 30,
   "id": "d2d224be-0c63-4680-8eb5-fb883a22454f",
   "metadata": {},
   "outputs": [
    {
     "data": {
      "text/plain": [
       "657.9332246575682"
      ]
     },
     "execution_count": 30,
     "metadata": {},
     "output_type": "execute_result"
    }
   ],
   "source": [
    "lasso.alpha_"
   ]
  },
  {
   "cell_type": "code",
   "execution_count": 31,
   "id": "47395ee6-b790-424c-b52d-a928b8cef93b",
   "metadata": {},
   "outputs": [
    {
     "data": {
      "text/plain": [
       "array([0.84457438, 0.87674522, 0.75803054, 0.87720662, 0.7903267 ])"
      ]
     },
     "execution_count": 31,
     "metadata": {},
     "output_type": "execute_result"
    }
   ],
   "source": [
    "cross_val_score(lasso, X, y['saleprice'], cv = 5)"
   ]
  },
  {
   "cell_type": "code",
   "execution_count": 32,
   "id": "6efbc572-ccb2-4a4b-89fd-b39a189de7e5",
   "metadata": {},
   "outputs": [
    {
     "data": {
      "text/plain": [
       "0.8293766924276179"
      ]
     },
     "execution_count": 32,
     "metadata": {},
     "output_type": "execute_result"
    }
   ],
   "source": [
    "cross_val_score(lasso, X, y['saleprice'], cv = 5).mean()"
   ]
  },
  {
   "cell_type": "markdown",
   "id": "2bd95edc-2f54-4654-bd39-40a1c8720633",
   "metadata": {},
   "source": [
    "**Ridge**"
   ]
  },
  {
   "cell_type": "code",
   "execution_count": 33,
   "id": "62d26f0b-6d66-4905-b182-c6fe9df42f02",
   "metadata": {},
   "outputs": [
    {
     "data": {
      "text/plain": [
       "(0.8356723959286619, 0.8762639311324675)"
      ]
     },
     "execution_count": 33,
     "metadata": {},
     "output_type": "execute_result"
    }
   ],
   "source": [
    "ridge = RidgeCV(alphas = l_alphas)\n",
    "\n",
    "ridge.fit(X_train_sc, y_train['saleprice'])\n",
    "ridge.score(X_train_sc, y_train['saleprice']), ridge.score(X_test_sc, y_test['saleprice'])"
   ]
  },
  {
   "cell_type": "code",
   "execution_count": 34,
   "id": "7b1cf9ce-b7ea-4686-8fb3-fd64916db016",
   "metadata": {},
   "outputs": [
    {
     "data": {
      "text/plain": [
       "432.87612810830615"
      ]
     },
     "execution_count": 34,
     "metadata": {},
     "output_type": "execute_result"
    }
   ],
   "source": [
    "ridge.alpha_"
   ]
  },
  {
   "cell_type": "markdown",
   "id": "3eb78ddc-1f92-4741-96df-f99aa90d7778",
   "metadata": {},
   "source": [
    "**DecisionTreeRegressor**"
   ]
  },
  {
   "cell_type": "markdown",
   "id": "068bc9ce-c995-4ae1-8eb5-888ffa6b1ab1",
   "metadata": {},
   "source": [
    "- With default values:"
   ]
  },
  {
   "cell_type": "code",
   "execution_count": 49,
   "id": "0dbfb89a-8c41-447d-b3f3-a21ef9b41822",
   "metadata": {},
   "outputs": [
    {
     "data": {
      "text/plain": [
       "(1.0, 0.8116214019827525)"
      ]
     },
     "execution_count": 49,
     "metadata": {},
     "output_type": "execute_result"
    }
   ],
   "source": [
    "dtr = DecisionTreeRegressor()\n",
    "\n",
    "dtr.fit(X_train, y_train)\n",
    "dtr.score(X_train, y_train['saleprice']), dtr.score(X_test, y_test['saleprice'])"
   ]
  },
  {
   "cell_type": "markdown",
   "id": "f0d5c990-88ab-42b6-9151-58d6332db15b",
   "metadata": {},
   "source": [
    "- With GridSearch:"
   ]
  },
  {
   "cell_type": "code",
   "execution_count": 47,
   "id": "a0a2d2cb-ed4a-4885-a0a1-ac56a737ecd2",
   "metadata": {},
   "outputs": [],
   "source": [
    "grid = GridSearchCV(estimator = dtr,\n",
    "                    param_grid = {'max_depth': [None, 2, 3, 5, 7],\n",
    "                                 'min_samples_split': [2, 5, 10, 15, 20],\n",
    "                                 'min_samples_leaf': [1, 2, 3, 4, 5, 6],\n",
    "                                 'ccp_alpha': [0, 0.001, 0.01, 0.1, 1, 10]},\n",
    "                    cv = 5,\n",
    "                    verbose = 1)"
   ]
  },
  {
   "cell_type": "code",
   "execution_count": 48,
   "id": "019f95fc-3f16-4903-9393-96b9ccaf0e0f",
   "metadata": {},
   "outputs": [
    {
     "name": "stdout",
     "output_type": "stream",
     "text": [
      "Fitting 5 folds for each of 900 candidates, totalling 4500 fits\n",
      "49.40610980987549\n"
     ]
    }
   ],
   "source": [
    "import time\n",
    "t0 = time.time()\n",
    "\n",
    "grid.fit(X_train, y_train)\n",
    "\n",
    "print(time.time() - t0)"
   ]
  },
  {
   "cell_type": "code",
   "execution_count": 50,
   "id": "6f8824a9-2b49-41cd-91eb-36f4fe9645dd",
   "metadata": {},
   "outputs": [
    {
     "data": {
      "text/plain": [
       "(0.9176567695807675, 0.811587995154812)"
      ]
     },
     "execution_count": 50,
     "metadata": {},
     "output_type": "execute_result"
    }
   ],
   "source": [
    "grid.score(X_train, y_train), grid.score(X_test, y_test)"
   ]
  },
  {
   "cell_type": "code",
   "execution_count": 51,
   "id": "12368961-b179-48bd-b596-afe5338109de",
   "metadata": {},
   "outputs": [
    {
     "data": {
      "text/plain": [
       "{'ccp_alpha': 0,\n",
       " 'max_depth': None,\n",
       " 'min_samples_leaf': 6,\n",
       " 'min_samples_split': 20}"
      ]
     },
     "execution_count": 51,
     "metadata": {},
     "output_type": "execute_result"
    }
   ],
   "source": [
    "grid.best_params_"
   ]
  },
  {
   "cell_type": "code",
   "execution_count": 52,
   "id": "15e1c4e5-ff4c-4d62-b288-85d490fe2ccf",
   "metadata": {},
   "outputs": [],
   "source": [
    "grid_preds = grid.predict(X_test)"
   ]
  },
  {
   "cell_type": "code",
   "execution_count": 53,
   "id": "472d6bca-b5b0-46cc-90b0-afa68b7bf5c2",
   "metadata": {},
   "outputs": [
    {
     "data": {
      "text/plain": [
       "('RMSE: 33458.22538656117', 'R2 Score: 0.811587995154812')"
      ]
     },
     "execution_count": 53,
     "metadata": {},
     "output_type": "execute_result"
    }
   ],
   "source": [
    "model_eval(y_test, grid_preds)"
   ]
  },
  {
   "cell_type": "code",
   "execution_count": null,
   "id": "ba6c01bf-5f90-4194-b554-159267062329",
   "metadata": {},
   "outputs": [],
   "source": []
  }
 ],
 "metadata": {
  "kernelspec": {
   "display_name": "Python 3",
   "language": "python",
   "name": "python3"
  },
  "language_info": {
   "codemirror_mode": {
    "name": "ipython",
    "version": 3
   },
   "file_extension": ".py",
   "mimetype": "text/x-python",
   "name": "python",
   "nbconvert_exporter": "python",
   "pygments_lexer": "ipython3",
   "version": "3.8.8"
  }
 },
 "nbformat": 4,
 "nbformat_minor": 5
}
