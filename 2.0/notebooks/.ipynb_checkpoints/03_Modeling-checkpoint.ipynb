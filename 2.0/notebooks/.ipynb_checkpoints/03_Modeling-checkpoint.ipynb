{
 "cells": [
  {
   "cell_type": "markdown",
   "id": "642d2b77-2fae-458c-8ccd-65fabb415946",
   "metadata": {},
   "source": [
    "# Project 2 - Ames Housing Data and Kaggle Challenge\n",
    "## Revisited"
   ]
  },
  {
   "cell_type": "markdown",
   "id": "a52d8ed7-30bf-4724-9b34-5fdb3aacaf2e",
   "metadata": {},
   "source": [
    "When reviewing the various projects I completed during my time with General Assembly I found that Project 2, based on an existing Kaggle challenge, offered to most room for improvement. My notebooks were a mess: there was no clear organization to the repository as a whole and each individual notebook represented the full 'Data Science Process' (Cleaning through Model Deployment), each for a different list of features. \n",
    "\n",
    "While the project was not particularly complicated, the way in which I originally approached the project was: I now had a chance to improve upon the work I had done in a more succinct, cleaner manner. "
   ]
  },
  {
   "cell_type": "markdown",
   "id": "75443056-3b92-45fa-a03e-d9e8a7c602f7",
   "metadata": {},
   "source": [
    "**Imports:**"
   ]
  },
  {
   "cell_type": "code",
   "execution_count": 1,
   "id": "0ce93f3c-79c8-4272-988f-b8d0677c66c9",
   "metadata": {},
   "outputs": [],
   "source": [
    "import pandas as pd\n",
    "pd.set_option(\"display.max_columns\", None)\n",
    "\n",
    "import numpy as np\n",
    "np.random.seed(42)\n",
    "\n",
    "import matplotlib.pyplot as plt\n",
    "import seaborn as sns\n",
    "sns.set(style = \"darkgrid\")\n",
    "\n",
    "from sklearn import metrics \n",
    "from sklearn.metrics import mean_squared_error, r2_score\n",
    "from sklearn.linear_model import LinearRegression, LassoCV, RidgeCV, HuberRegressor\n",
    "from sklearn.preprocessing import StandardScaler\n",
    "from sklearn.model_selection import train_test_split, cross_val_score, cross_val_predict"
   ]
  },
  {
   "cell_type": "markdown",
   "id": "0cf5849e-2298-46a4-b090-3eeffd2a1d63",
   "metadata": {},
   "source": [
    "**Reading in Model-Ready Data**"
   ]
  },
  {
   "cell_type": "code",
   "execution_count": 2,
   "id": "9d4bd69e-caec-42fc-abfb-09e409c866d0",
   "metadata": {},
   "outputs": [],
   "source": [
    "#reading in training and testing data\n",
    "ames_df = pd.read_csv('../datasets/train_model_ready.csv')\n",
    "ames_test_df = pd.read_csv('../datasets/test_model_ready.csv')"
   ]
  },
  {
   "cell_type": "code",
   "execution_count": 3,
   "id": "579ee537-4d33-44ee-bd36-674043a47876",
   "metadata": {},
   "outputs": [
    {
     "data": {
      "text/html": [
       "<div>\n",
       "<style scoped>\n",
       "    .dataframe tbody tr th:only-of-type {\n",
       "        vertical-align: middle;\n",
       "    }\n",
       "\n",
       "    .dataframe tbody tr th {\n",
       "        vertical-align: top;\n",
       "    }\n",
       "\n",
       "    .dataframe thead th {\n",
       "        text-align: right;\n",
       "    }\n",
       "</style>\n",
       "<table border=\"1\" class=\"dataframe\">\n",
       "  <thead>\n",
       "    <tr style=\"text-align: right;\">\n",
       "      <th></th>\n",
       "      <th>ms_subclass</th>\n",
       "      <th>ms_zoning</th>\n",
       "      <th>lot_frontage</th>\n",
       "      <th>lot_area</th>\n",
       "      <th>street</th>\n",
       "      <th>alley</th>\n",
       "      <th>lot_shape</th>\n",
       "      <th>land_contour</th>\n",
       "      <th>utilities</th>\n",
       "      <th>lot_config</th>\n",
       "      <th>land_slope</th>\n",
       "      <th>neighborhood</th>\n",
       "      <th>condition_1</th>\n",
       "      <th>condition_2</th>\n",
       "      <th>bldg_type</th>\n",
       "      <th>house_style</th>\n",
       "      <th>overall_qual</th>\n",
       "      <th>overall_cond</th>\n",
       "      <th>year_built</th>\n",
       "      <th>year_remod/add</th>\n",
       "      <th>roof_style</th>\n",
       "      <th>roof_matl</th>\n",
       "      <th>exterior_1st</th>\n",
       "      <th>exterior_2nd</th>\n",
       "      <th>mas_vnr_type</th>\n",
       "      <th>mas_vnr_area</th>\n",
       "      <th>exter_qual</th>\n",
       "      <th>exter_cond</th>\n",
       "      <th>foundation</th>\n",
       "      <th>bsmt_qual</th>\n",
       "      <th>bsmt_cond</th>\n",
       "      <th>bsmt_exposure</th>\n",
       "      <th>bsmtfin_type_1</th>\n",
       "      <th>bsmtfin_sf_1</th>\n",
       "      <th>bsmtfin_type_2</th>\n",
       "      <th>bsmtfin_sf_2</th>\n",
       "      <th>bsmt_unf_sf</th>\n",
       "      <th>total_bsmt_sf</th>\n",
       "      <th>heating</th>\n",
       "      <th>heating_qc</th>\n",
       "      <th>central_air</th>\n",
       "      <th>electrical</th>\n",
       "      <th>1st_flr_sf</th>\n",
       "      <th>2nd_flr_sf</th>\n",
       "      <th>low_qual_fin_sf</th>\n",
       "      <th>gr_liv_area</th>\n",
       "      <th>bsmt_full_bath</th>\n",
       "      <th>bsmt_half_bath</th>\n",
       "      <th>full_bath</th>\n",
       "      <th>half_bath</th>\n",
       "      <th>bedroom_abvgr</th>\n",
       "      <th>kitchen_abvgr</th>\n",
       "      <th>kitchen_qual</th>\n",
       "      <th>totrms_abvgrd</th>\n",
       "      <th>functional</th>\n",
       "      <th>fireplaces</th>\n",
       "      <th>fireplace_qu</th>\n",
       "      <th>garage_type</th>\n",
       "      <th>garage_yr_blt</th>\n",
       "      <th>garage_finish</th>\n",
       "      <th>garage_cars</th>\n",
       "      <th>garage_area</th>\n",
       "      <th>garage_qual</th>\n",
       "      <th>garage_cond</th>\n",
       "      <th>paved_drive</th>\n",
       "      <th>wood_deck_sf</th>\n",
       "      <th>open_porch_sf</th>\n",
       "      <th>enclosed_porch</th>\n",
       "      <th>3ssn_porch</th>\n",
       "      <th>screen_porch</th>\n",
       "      <th>pool_area</th>\n",
       "      <th>pool_qc</th>\n",
       "      <th>fence</th>\n",
       "      <th>misc_feature</th>\n",
       "      <th>misc_val</th>\n",
       "      <th>mo_sold</th>\n",
       "      <th>yr_sold</th>\n",
       "      <th>sale_type</th>\n",
       "      <th>saleprice</th>\n",
       "    </tr>\n",
       "  </thead>\n",
       "  <tbody>\n",
       "    <tr>\n",
       "      <th>0</th>\n",
       "      <td>60</td>\n",
       "      <td>RL</td>\n",
       "      <td>68.0</td>\n",
       "      <td>13517</td>\n",
       "      <td>Pave</td>\n",
       "      <td>NoAlley</td>\n",
       "      <td>IR1</td>\n",
       "      <td>Lvl</td>\n",
       "      <td>AllPub</td>\n",
       "      <td>CulDSac</td>\n",
       "      <td>Gtl</td>\n",
       "      <td>Sawyer</td>\n",
       "      <td>RRAe</td>\n",
       "      <td>Norm</td>\n",
       "      <td>1Fam</td>\n",
       "      <td>2Story</td>\n",
       "      <td>6</td>\n",
       "      <td>8</td>\n",
       "      <td>1976</td>\n",
       "      <td>2005</td>\n",
       "      <td>Gable</td>\n",
       "      <td>CompShg</td>\n",
       "      <td>HdBoard</td>\n",
       "      <td>Plywood</td>\n",
       "      <td>BrkFace</td>\n",
       "      <td>289.0</td>\n",
       "      <td>Gd</td>\n",
       "      <td>TA</td>\n",
       "      <td>CBlock</td>\n",
       "      <td>TA</td>\n",
       "      <td>TA</td>\n",
       "      <td>No</td>\n",
       "      <td>GLQ</td>\n",
       "      <td>533.0</td>\n",
       "      <td>Unf</td>\n",
       "      <td>0.0</td>\n",
       "      <td>192.0</td>\n",
       "      <td>725.0</td>\n",
       "      <td>GasA</td>\n",
       "      <td>Ex</td>\n",
       "      <td>Y</td>\n",
       "      <td>SBrkr</td>\n",
       "      <td>725</td>\n",
       "      <td>754</td>\n",
       "      <td>0</td>\n",
       "      <td>1479</td>\n",
       "      <td>0.0</td>\n",
       "      <td>0.0</td>\n",
       "      <td>2</td>\n",
       "      <td>1</td>\n",
       "      <td>3</td>\n",
       "      <td>1</td>\n",
       "      <td>Gd</td>\n",
       "      <td>6</td>\n",
       "      <td>Typ</td>\n",
       "      <td>0</td>\n",
       "      <td>NoFrPl</td>\n",
       "      <td>Attchd</td>\n",
       "      <td>1976.0</td>\n",
       "      <td>RFn</td>\n",
       "      <td>2.0</td>\n",
       "      <td>475.0</td>\n",
       "      <td>TA</td>\n",
       "      <td>TA</td>\n",
       "      <td>Y</td>\n",
       "      <td>0</td>\n",
       "      <td>44</td>\n",
       "      <td>0</td>\n",
       "      <td>0</td>\n",
       "      <td>0</td>\n",
       "      <td>0</td>\n",
       "      <td>NoPl</td>\n",
       "      <td>NoFnc</td>\n",
       "      <td>NoMisc</td>\n",
       "      <td>0</td>\n",
       "      <td>3</td>\n",
       "      <td>2010</td>\n",
       "      <td>WD</td>\n",
       "      <td>130500</td>\n",
       "    </tr>\n",
       "    <tr>\n",
       "      <th>1</th>\n",
       "      <td>60</td>\n",
       "      <td>RL</td>\n",
       "      <td>43.0</td>\n",
       "      <td>11492</td>\n",
       "      <td>Pave</td>\n",
       "      <td>NoAlley</td>\n",
       "      <td>IR1</td>\n",
       "      <td>Lvl</td>\n",
       "      <td>AllPub</td>\n",
       "      <td>CulDSac</td>\n",
       "      <td>Gtl</td>\n",
       "      <td>SawyerW</td>\n",
       "      <td>Norm</td>\n",
       "      <td>Norm</td>\n",
       "      <td>1Fam</td>\n",
       "      <td>2Story</td>\n",
       "      <td>7</td>\n",
       "      <td>5</td>\n",
       "      <td>1996</td>\n",
       "      <td>1997</td>\n",
       "      <td>Gable</td>\n",
       "      <td>CompShg</td>\n",
       "      <td>VinylSd</td>\n",
       "      <td>VinylSd</td>\n",
       "      <td>BrkFace</td>\n",
       "      <td>132.0</td>\n",
       "      <td>Gd</td>\n",
       "      <td>TA</td>\n",
       "      <td>PConc</td>\n",
       "      <td>Gd</td>\n",
       "      <td>TA</td>\n",
       "      <td>No</td>\n",
       "      <td>GLQ</td>\n",
       "      <td>637.0</td>\n",
       "      <td>Unf</td>\n",
       "      <td>0.0</td>\n",
       "      <td>276.0</td>\n",
       "      <td>913.0</td>\n",
       "      <td>GasA</td>\n",
       "      <td>Ex</td>\n",
       "      <td>Y</td>\n",
       "      <td>SBrkr</td>\n",
       "      <td>913</td>\n",
       "      <td>1209</td>\n",
       "      <td>0</td>\n",
       "      <td>2122</td>\n",
       "      <td>1.0</td>\n",
       "      <td>0.0</td>\n",
       "      <td>2</td>\n",
       "      <td>1</td>\n",
       "      <td>4</td>\n",
       "      <td>1</td>\n",
       "      <td>Gd</td>\n",
       "      <td>8</td>\n",
       "      <td>Typ</td>\n",
       "      <td>1</td>\n",
       "      <td>TA</td>\n",
       "      <td>Attchd</td>\n",
       "      <td>1997.0</td>\n",
       "      <td>RFn</td>\n",
       "      <td>2.0</td>\n",
       "      <td>559.0</td>\n",
       "      <td>TA</td>\n",
       "      <td>TA</td>\n",
       "      <td>Y</td>\n",
       "      <td>0</td>\n",
       "      <td>74</td>\n",
       "      <td>0</td>\n",
       "      <td>0</td>\n",
       "      <td>0</td>\n",
       "      <td>0</td>\n",
       "      <td>NoPl</td>\n",
       "      <td>NoFnc</td>\n",
       "      <td>NoMisc</td>\n",
       "      <td>0</td>\n",
       "      <td>4</td>\n",
       "      <td>2009</td>\n",
       "      <td>WD</td>\n",
       "      <td>220000</td>\n",
       "    </tr>\n",
       "    <tr>\n",
       "      <th>2</th>\n",
       "      <td>20</td>\n",
       "      <td>RL</td>\n",
       "      <td>68.0</td>\n",
       "      <td>7922</td>\n",
       "      <td>Pave</td>\n",
       "      <td>NoAlley</td>\n",
       "      <td>Reg</td>\n",
       "      <td>Lvl</td>\n",
       "      <td>AllPub</td>\n",
       "      <td>Inside</td>\n",
       "      <td>Gtl</td>\n",
       "      <td>NAmes</td>\n",
       "      <td>Norm</td>\n",
       "      <td>Norm</td>\n",
       "      <td>1Fam</td>\n",
       "      <td>1Story</td>\n",
       "      <td>5</td>\n",
       "      <td>7</td>\n",
       "      <td>1953</td>\n",
       "      <td>2007</td>\n",
       "      <td>Gable</td>\n",
       "      <td>CompShg</td>\n",
       "      <td>VinylSd</td>\n",
       "      <td>VinylSd</td>\n",
       "      <td>None</td>\n",
       "      <td>0.0</td>\n",
       "      <td>TA</td>\n",
       "      <td>Gd</td>\n",
       "      <td>CBlock</td>\n",
       "      <td>TA</td>\n",
       "      <td>TA</td>\n",
       "      <td>No</td>\n",
       "      <td>GLQ</td>\n",
       "      <td>731.0</td>\n",
       "      <td>Unf</td>\n",
       "      <td>0.0</td>\n",
       "      <td>326.0</td>\n",
       "      <td>1057.0</td>\n",
       "      <td>GasA</td>\n",
       "      <td>TA</td>\n",
       "      <td>Y</td>\n",
       "      <td>SBrkr</td>\n",
       "      <td>1057</td>\n",
       "      <td>0</td>\n",
       "      <td>0</td>\n",
       "      <td>1057</td>\n",
       "      <td>1.0</td>\n",
       "      <td>0.0</td>\n",
       "      <td>1</td>\n",
       "      <td>0</td>\n",
       "      <td>3</td>\n",
       "      <td>1</td>\n",
       "      <td>Gd</td>\n",
       "      <td>5</td>\n",
       "      <td>Typ</td>\n",
       "      <td>0</td>\n",
       "      <td>NoFrPl</td>\n",
       "      <td>Detchd</td>\n",
       "      <td>1953.0</td>\n",
       "      <td>Unf</td>\n",
       "      <td>1.0</td>\n",
       "      <td>246.0</td>\n",
       "      <td>TA</td>\n",
       "      <td>TA</td>\n",
       "      <td>Y</td>\n",
       "      <td>0</td>\n",
       "      <td>52</td>\n",
       "      <td>0</td>\n",
       "      <td>0</td>\n",
       "      <td>0</td>\n",
       "      <td>0</td>\n",
       "      <td>NoPl</td>\n",
       "      <td>NoFnc</td>\n",
       "      <td>NoMisc</td>\n",
       "      <td>0</td>\n",
       "      <td>1</td>\n",
       "      <td>2010</td>\n",
       "      <td>WD</td>\n",
       "      <td>109000</td>\n",
       "    </tr>\n",
       "    <tr>\n",
       "      <th>3</th>\n",
       "      <td>60</td>\n",
       "      <td>RL</td>\n",
       "      <td>73.0</td>\n",
       "      <td>9802</td>\n",
       "      <td>Pave</td>\n",
       "      <td>NoAlley</td>\n",
       "      <td>Reg</td>\n",
       "      <td>Lvl</td>\n",
       "      <td>AllPub</td>\n",
       "      <td>Inside</td>\n",
       "      <td>Gtl</td>\n",
       "      <td>Timber</td>\n",
       "      <td>Norm</td>\n",
       "      <td>Norm</td>\n",
       "      <td>1Fam</td>\n",
       "      <td>2Story</td>\n",
       "      <td>5</td>\n",
       "      <td>5</td>\n",
       "      <td>2006</td>\n",
       "      <td>2007</td>\n",
       "      <td>Gable</td>\n",
       "      <td>CompShg</td>\n",
       "      <td>VinylSd</td>\n",
       "      <td>VinylSd</td>\n",
       "      <td>None</td>\n",
       "      <td>0.0</td>\n",
       "      <td>TA</td>\n",
       "      <td>TA</td>\n",
       "      <td>PConc</td>\n",
       "      <td>Gd</td>\n",
       "      <td>TA</td>\n",
       "      <td>No</td>\n",
       "      <td>Unf</td>\n",
       "      <td>0.0</td>\n",
       "      <td>Unf</td>\n",
       "      <td>0.0</td>\n",
       "      <td>384.0</td>\n",
       "      <td>384.0</td>\n",
       "      <td>GasA</td>\n",
       "      <td>Gd</td>\n",
       "      <td>Y</td>\n",
       "      <td>SBrkr</td>\n",
       "      <td>744</td>\n",
       "      <td>700</td>\n",
       "      <td>0</td>\n",
       "      <td>1444</td>\n",
       "      <td>0.0</td>\n",
       "      <td>0.0</td>\n",
       "      <td>2</td>\n",
       "      <td>1</td>\n",
       "      <td>3</td>\n",
       "      <td>1</td>\n",
       "      <td>TA</td>\n",
       "      <td>7</td>\n",
       "      <td>Typ</td>\n",
       "      <td>0</td>\n",
       "      <td>NoFrPl</td>\n",
       "      <td>BuiltIn</td>\n",
       "      <td>2007.0</td>\n",
       "      <td>Fin</td>\n",
       "      <td>2.0</td>\n",
       "      <td>400.0</td>\n",
       "      <td>TA</td>\n",
       "      <td>TA</td>\n",
       "      <td>Y</td>\n",
       "      <td>100</td>\n",
       "      <td>0</td>\n",
       "      <td>0</td>\n",
       "      <td>0</td>\n",
       "      <td>0</td>\n",
       "      <td>0</td>\n",
       "      <td>NoPl</td>\n",
       "      <td>NoFnc</td>\n",
       "      <td>NoMisc</td>\n",
       "      <td>0</td>\n",
       "      <td>4</td>\n",
       "      <td>2010</td>\n",
       "      <td>WD</td>\n",
       "      <td>174000</td>\n",
       "    </tr>\n",
       "    <tr>\n",
       "      <th>4</th>\n",
       "      <td>50</td>\n",
       "      <td>RL</td>\n",
       "      <td>82.0</td>\n",
       "      <td>14235</td>\n",
       "      <td>Pave</td>\n",
       "      <td>NoAlley</td>\n",
       "      <td>IR1</td>\n",
       "      <td>Lvl</td>\n",
       "      <td>AllPub</td>\n",
       "      <td>Inside</td>\n",
       "      <td>Gtl</td>\n",
       "      <td>SawyerW</td>\n",
       "      <td>Norm</td>\n",
       "      <td>Norm</td>\n",
       "      <td>1Fam</td>\n",
       "      <td>1.5Fin</td>\n",
       "      <td>6</td>\n",
       "      <td>8</td>\n",
       "      <td>1900</td>\n",
       "      <td>1993</td>\n",
       "      <td>Gable</td>\n",
       "      <td>CompShg</td>\n",
       "      <td>Wd Sdng</td>\n",
       "      <td>Plywood</td>\n",
       "      <td>None</td>\n",
       "      <td>0.0</td>\n",
       "      <td>TA</td>\n",
       "      <td>TA</td>\n",
       "      <td>PConc</td>\n",
       "      <td>Fa</td>\n",
       "      <td>Gd</td>\n",
       "      <td>No</td>\n",
       "      <td>Unf</td>\n",
       "      <td>0.0</td>\n",
       "      <td>Unf</td>\n",
       "      <td>0.0</td>\n",
       "      <td>676.0</td>\n",
       "      <td>676.0</td>\n",
       "      <td>GasA</td>\n",
       "      <td>TA</td>\n",
       "      <td>Y</td>\n",
       "      <td>SBrkr</td>\n",
       "      <td>831</td>\n",
       "      <td>614</td>\n",
       "      <td>0</td>\n",
       "      <td>1445</td>\n",
       "      <td>0.0</td>\n",
       "      <td>0.0</td>\n",
       "      <td>2</td>\n",
       "      <td>0</td>\n",
       "      <td>3</td>\n",
       "      <td>1</td>\n",
       "      <td>TA</td>\n",
       "      <td>6</td>\n",
       "      <td>Typ</td>\n",
       "      <td>0</td>\n",
       "      <td>NoFrPl</td>\n",
       "      <td>Detchd</td>\n",
       "      <td>1957.0</td>\n",
       "      <td>Unf</td>\n",
       "      <td>2.0</td>\n",
       "      <td>484.0</td>\n",
       "      <td>TA</td>\n",
       "      <td>TA</td>\n",
       "      <td>N</td>\n",
       "      <td>0</td>\n",
       "      <td>59</td>\n",
       "      <td>0</td>\n",
       "      <td>0</td>\n",
       "      <td>0</td>\n",
       "      <td>0</td>\n",
       "      <td>NoPl</td>\n",
       "      <td>NoFnc</td>\n",
       "      <td>NoMisc</td>\n",
       "      <td>0</td>\n",
       "      <td>3</td>\n",
       "      <td>2010</td>\n",
       "      <td>WD</td>\n",
       "      <td>138500</td>\n",
       "    </tr>\n",
       "  </tbody>\n",
       "</table>\n",
       "</div>"
      ],
      "text/plain": [
       "   ms_subclass ms_zoning  lot_frontage  lot_area street    alley lot_shape  \\\n",
       "0           60        RL          68.0     13517   Pave  NoAlley       IR1   \n",
       "1           60        RL          43.0     11492   Pave  NoAlley       IR1   \n",
       "2           20        RL          68.0      7922   Pave  NoAlley       Reg   \n",
       "3           60        RL          73.0      9802   Pave  NoAlley       Reg   \n",
       "4           50        RL          82.0     14235   Pave  NoAlley       IR1   \n",
       "\n",
       "  land_contour utilities lot_config land_slope neighborhood condition_1  \\\n",
       "0          Lvl    AllPub    CulDSac        Gtl       Sawyer        RRAe   \n",
       "1          Lvl    AllPub    CulDSac        Gtl      SawyerW        Norm   \n",
       "2          Lvl    AllPub     Inside        Gtl        NAmes        Norm   \n",
       "3          Lvl    AllPub     Inside        Gtl       Timber        Norm   \n",
       "4          Lvl    AllPub     Inside        Gtl      SawyerW        Norm   \n",
       "\n",
       "  condition_2 bldg_type house_style  overall_qual  overall_cond  year_built  \\\n",
       "0        Norm      1Fam      2Story             6             8        1976   \n",
       "1        Norm      1Fam      2Story             7             5        1996   \n",
       "2        Norm      1Fam      1Story             5             7        1953   \n",
       "3        Norm      1Fam      2Story             5             5        2006   \n",
       "4        Norm      1Fam      1.5Fin             6             8        1900   \n",
       "\n",
       "   year_remod/add roof_style roof_matl exterior_1st exterior_2nd mas_vnr_type  \\\n",
       "0            2005      Gable   CompShg      HdBoard      Plywood      BrkFace   \n",
       "1            1997      Gable   CompShg      VinylSd      VinylSd      BrkFace   \n",
       "2            2007      Gable   CompShg      VinylSd      VinylSd         None   \n",
       "3            2007      Gable   CompShg      VinylSd      VinylSd         None   \n",
       "4            1993      Gable   CompShg      Wd Sdng      Plywood         None   \n",
       "\n",
       "   mas_vnr_area exter_qual exter_cond foundation bsmt_qual bsmt_cond  \\\n",
       "0         289.0         Gd         TA     CBlock        TA        TA   \n",
       "1         132.0         Gd         TA      PConc        Gd        TA   \n",
       "2           0.0         TA         Gd     CBlock        TA        TA   \n",
       "3           0.0         TA         TA      PConc        Gd        TA   \n",
       "4           0.0         TA         TA      PConc        Fa        Gd   \n",
       "\n",
       "  bsmt_exposure bsmtfin_type_1  bsmtfin_sf_1 bsmtfin_type_2  bsmtfin_sf_2  \\\n",
       "0            No            GLQ         533.0            Unf           0.0   \n",
       "1            No            GLQ         637.0            Unf           0.0   \n",
       "2            No            GLQ         731.0            Unf           0.0   \n",
       "3            No            Unf           0.0            Unf           0.0   \n",
       "4            No            Unf           0.0            Unf           0.0   \n",
       "\n",
       "   bsmt_unf_sf  total_bsmt_sf heating heating_qc central_air electrical  \\\n",
       "0        192.0          725.0    GasA         Ex           Y      SBrkr   \n",
       "1        276.0          913.0    GasA         Ex           Y      SBrkr   \n",
       "2        326.0         1057.0    GasA         TA           Y      SBrkr   \n",
       "3        384.0          384.0    GasA         Gd           Y      SBrkr   \n",
       "4        676.0          676.0    GasA         TA           Y      SBrkr   \n",
       "\n",
       "   1st_flr_sf  2nd_flr_sf  low_qual_fin_sf  gr_liv_area  bsmt_full_bath  \\\n",
       "0         725         754                0         1479             0.0   \n",
       "1         913        1209                0         2122             1.0   \n",
       "2        1057           0                0         1057             1.0   \n",
       "3         744         700                0         1444             0.0   \n",
       "4         831         614                0         1445             0.0   \n",
       "\n",
       "   bsmt_half_bath  full_bath  half_bath  bedroom_abvgr  kitchen_abvgr  \\\n",
       "0             0.0          2          1              3              1   \n",
       "1             0.0          2          1              4              1   \n",
       "2             0.0          1          0              3              1   \n",
       "3             0.0          2          1              3              1   \n",
       "4             0.0          2          0              3              1   \n",
       "\n",
       "  kitchen_qual  totrms_abvgrd functional  fireplaces fireplace_qu garage_type  \\\n",
       "0           Gd              6        Typ           0       NoFrPl      Attchd   \n",
       "1           Gd              8        Typ           1           TA      Attchd   \n",
       "2           Gd              5        Typ           0       NoFrPl      Detchd   \n",
       "3           TA              7        Typ           0       NoFrPl     BuiltIn   \n",
       "4           TA              6        Typ           0       NoFrPl      Detchd   \n",
       "\n",
       "   garage_yr_blt garage_finish  garage_cars  garage_area garage_qual  \\\n",
       "0         1976.0           RFn          2.0        475.0          TA   \n",
       "1         1997.0           RFn          2.0        559.0          TA   \n",
       "2         1953.0           Unf          1.0        246.0          TA   \n",
       "3         2007.0           Fin          2.0        400.0          TA   \n",
       "4         1957.0           Unf          2.0        484.0          TA   \n",
       "\n",
       "  garage_cond paved_drive  wood_deck_sf  open_porch_sf  enclosed_porch  \\\n",
       "0          TA           Y             0             44               0   \n",
       "1          TA           Y             0             74               0   \n",
       "2          TA           Y             0             52               0   \n",
       "3          TA           Y           100              0               0   \n",
       "4          TA           N             0             59               0   \n",
       "\n",
       "   3ssn_porch  screen_porch  pool_area pool_qc  fence misc_feature  misc_val  \\\n",
       "0           0             0          0    NoPl  NoFnc       NoMisc         0   \n",
       "1           0             0          0    NoPl  NoFnc       NoMisc         0   \n",
       "2           0             0          0    NoPl  NoFnc       NoMisc         0   \n",
       "3           0             0          0    NoPl  NoFnc       NoMisc         0   \n",
       "4           0             0          0    NoPl  NoFnc       NoMisc         0   \n",
       "\n",
       "   mo_sold  yr_sold sale_type  saleprice  \n",
       "0        3     2010       WD      130500  \n",
       "1        4     2009       WD      220000  \n",
       "2        1     2010       WD      109000  \n",
       "3        4     2010       WD      174000  \n",
       "4        3     2010       WD      138500  "
      ]
     },
     "execution_count": 3,
     "metadata": {},
     "output_type": "execute_result"
    }
   ],
   "source": [
    "ames_df.head()"
   ]
  },
  {
   "cell_type": "code",
   "execution_count": 4,
   "id": "a950a656-7f01-459b-a27c-790196437efd",
   "metadata": {},
   "outputs": [
    {
     "data": {
      "text/html": [
       "<div>\n",
       "<style scoped>\n",
       "    .dataframe tbody tr th:only-of-type {\n",
       "        vertical-align: middle;\n",
       "    }\n",
       "\n",
       "    .dataframe tbody tr th {\n",
       "        vertical-align: top;\n",
       "    }\n",
       "\n",
       "    .dataframe thead th {\n",
       "        text-align: right;\n",
       "    }\n",
       "</style>\n",
       "<table border=\"1\" class=\"dataframe\">\n",
       "  <thead>\n",
       "    <tr style=\"text-align: right;\">\n",
       "      <th></th>\n",
       "      <th>ms_subclass</th>\n",
       "      <th>ms_zoning</th>\n",
       "      <th>lot_frontage</th>\n",
       "      <th>lot_area</th>\n",
       "      <th>street</th>\n",
       "      <th>alley</th>\n",
       "      <th>lot_shape</th>\n",
       "      <th>land_contour</th>\n",
       "      <th>utilities</th>\n",
       "      <th>lot_config</th>\n",
       "      <th>land_slope</th>\n",
       "      <th>neighborhood</th>\n",
       "      <th>condition_1</th>\n",
       "      <th>condition_2</th>\n",
       "      <th>bldg_type</th>\n",
       "      <th>house_style</th>\n",
       "      <th>overall_qual</th>\n",
       "      <th>overall_cond</th>\n",
       "      <th>year_built</th>\n",
       "      <th>year_remod/add</th>\n",
       "      <th>roof_style</th>\n",
       "      <th>roof_matl</th>\n",
       "      <th>exterior_1st</th>\n",
       "      <th>exterior_2nd</th>\n",
       "      <th>mas_vnr_type</th>\n",
       "      <th>mas_vnr_area</th>\n",
       "      <th>exter_qual</th>\n",
       "      <th>exter_cond</th>\n",
       "      <th>foundation</th>\n",
       "      <th>bsmt_qual</th>\n",
       "      <th>bsmt_cond</th>\n",
       "      <th>bsmt_exposure</th>\n",
       "      <th>bsmtfin_type_1</th>\n",
       "      <th>bsmtfin_sf_1</th>\n",
       "      <th>bsmtfin_type_2</th>\n",
       "      <th>bsmtfin_sf_2</th>\n",
       "      <th>bsmt_unf_sf</th>\n",
       "      <th>total_bsmt_sf</th>\n",
       "      <th>heating</th>\n",
       "      <th>heating_qc</th>\n",
       "      <th>central_air</th>\n",
       "      <th>electrical</th>\n",
       "      <th>1st_flr_sf</th>\n",
       "      <th>2nd_flr_sf</th>\n",
       "      <th>low_qual_fin_sf</th>\n",
       "      <th>gr_liv_area</th>\n",
       "      <th>bsmt_full_bath</th>\n",
       "      <th>bsmt_half_bath</th>\n",
       "      <th>full_bath</th>\n",
       "      <th>half_bath</th>\n",
       "      <th>bedroom_abvgr</th>\n",
       "      <th>kitchen_abvgr</th>\n",
       "      <th>kitchen_qual</th>\n",
       "      <th>totrms_abvgrd</th>\n",
       "      <th>functional</th>\n",
       "      <th>fireplaces</th>\n",
       "      <th>fireplace_qu</th>\n",
       "      <th>garage_type</th>\n",
       "      <th>garage_yr_blt</th>\n",
       "      <th>garage_finish</th>\n",
       "      <th>garage_cars</th>\n",
       "      <th>garage_area</th>\n",
       "      <th>garage_qual</th>\n",
       "      <th>garage_cond</th>\n",
       "      <th>paved_drive</th>\n",
       "      <th>wood_deck_sf</th>\n",
       "      <th>open_porch_sf</th>\n",
       "      <th>enclosed_porch</th>\n",
       "      <th>3ssn_porch</th>\n",
       "      <th>screen_porch</th>\n",
       "      <th>pool_area</th>\n",
       "      <th>pool_qc</th>\n",
       "      <th>fence</th>\n",
       "      <th>misc_feature</th>\n",
       "      <th>misc_val</th>\n",
       "      <th>mo_sold</th>\n",
       "      <th>yr_sold</th>\n",
       "      <th>sale_type</th>\n",
       "    </tr>\n",
       "  </thead>\n",
       "  <tbody>\n",
       "    <tr>\n",
       "      <th>0</th>\n",
       "      <td>190</td>\n",
       "      <td>RM</td>\n",
       "      <td>69.0</td>\n",
       "      <td>9142</td>\n",
       "      <td>Pave</td>\n",
       "      <td>Grvl</td>\n",
       "      <td>Reg</td>\n",
       "      <td>Lvl</td>\n",
       "      <td>AllPub</td>\n",
       "      <td>Inside</td>\n",
       "      <td>Gtl</td>\n",
       "      <td>OldTown</td>\n",
       "      <td>Norm</td>\n",
       "      <td>Norm</td>\n",
       "      <td>2fmCon</td>\n",
       "      <td>2Story</td>\n",
       "      <td>6</td>\n",
       "      <td>8</td>\n",
       "      <td>1910</td>\n",
       "      <td>1950</td>\n",
       "      <td>Gable</td>\n",
       "      <td>CompShg</td>\n",
       "      <td>AsbShng</td>\n",
       "      <td>AsbShng</td>\n",
       "      <td>None</td>\n",
       "      <td>0.0</td>\n",
       "      <td>TA</td>\n",
       "      <td>Fa</td>\n",
       "      <td>Stone</td>\n",
       "      <td>Fa</td>\n",
       "      <td>TA</td>\n",
       "      <td>No</td>\n",
       "      <td>Unf</td>\n",
       "      <td>0</td>\n",
       "      <td>Unf</td>\n",
       "      <td>0</td>\n",
       "      <td>1020</td>\n",
       "      <td>1020</td>\n",
       "      <td>GasA</td>\n",
       "      <td>Gd</td>\n",
       "      <td>N</td>\n",
       "      <td>FuseP</td>\n",
       "      <td>908</td>\n",
       "      <td>1020</td>\n",
       "      <td>0</td>\n",
       "      <td>1928</td>\n",
       "      <td>0</td>\n",
       "      <td>0</td>\n",
       "      <td>2</td>\n",
       "      <td>0</td>\n",
       "      <td>4</td>\n",
       "      <td>2</td>\n",
       "      <td>Fa</td>\n",
       "      <td>9</td>\n",
       "      <td>Typ</td>\n",
       "      <td>0</td>\n",
       "      <td>NoFrPl</td>\n",
       "      <td>Detchd</td>\n",
       "      <td>1910.0</td>\n",
       "      <td>Unf</td>\n",
       "      <td>1</td>\n",
       "      <td>440</td>\n",
       "      <td>Po</td>\n",
       "      <td>Po</td>\n",
       "      <td>Y</td>\n",
       "      <td>0</td>\n",
       "      <td>60</td>\n",
       "      <td>112</td>\n",
       "      <td>0</td>\n",
       "      <td>0</td>\n",
       "      <td>0</td>\n",
       "      <td>NoPl</td>\n",
       "      <td>NoFnc</td>\n",
       "      <td>NoMisc</td>\n",
       "      <td>0</td>\n",
       "      <td>4</td>\n",
       "      <td>2006</td>\n",
       "      <td>WD</td>\n",
       "    </tr>\n",
       "    <tr>\n",
       "      <th>1</th>\n",
       "      <td>90</td>\n",
       "      <td>RL</td>\n",
       "      <td>68.0</td>\n",
       "      <td>9662</td>\n",
       "      <td>Pave</td>\n",
       "      <td>NoAlley</td>\n",
       "      <td>IR1</td>\n",
       "      <td>Lvl</td>\n",
       "      <td>AllPub</td>\n",
       "      <td>Inside</td>\n",
       "      <td>Gtl</td>\n",
       "      <td>Sawyer</td>\n",
       "      <td>Norm</td>\n",
       "      <td>Norm</td>\n",
       "      <td>Duplex</td>\n",
       "      <td>1Story</td>\n",
       "      <td>5</td>\n",
       "      <td>4</td>\n",
       "      <td>1977</td>\n",
       "      <td>1977</td>\n",
       "      <td>Gable</td>\n",
       "      <td>CompShg</td>\n",
       "      <td>Plywood</td>\n",
       "      <td>Plywood</td>\n",
       "      <td>None</td>\n",
       "      <td>0.0</td>\n",
       "      <td>TA</td>\n",
       "      <td>TA</td>\n",
       "      <td>CBlock</td>\n",
       "      <td>Gd</td>\n",
       "      <td>TA</td>\n",
       "      <td>No</td>\n",
       "      <td>Unf</td>\n",
       "      <td>0</td>\n",
       "      <td>Unf</td>\n",
       "      <td>0</td>\n",
       "      <td>1967</td>\n",
       "      <td>1967</td>\n",
       "      <td>GasA</td>\n",
       "      <td>TA</td>\n",
       "      <td>Y</td>\n",
       "      <td>SBrkr</td>\n",
       "      <td>1967</td>\n",
       "      <td>0</td>\n",
       "      <td>0</td>\n",
       "      <td>1967</td>\n",
       "      <td>0</td>\n",
       "      <td>0</td>\n",
       "      <td>2</td>\n",
       "      <td>0</td>\n",
       "      <td>6</td>\n",
       "      <td>2</td>\n",
       "      <td>TA</td>\n",
       "      <td>10</td>\n",
       "      <td>Typ</td>\n",
       "      <td>0</td>\n",
       "      <td>NoFrPl</td>\n",
       "      <td>Attchd</td>\n",
       "      <td>1977.0</td>\n",
       "      <td>Fin</td>\n",
       "      <td>2</td>\n",
       "      <td>580</td>\n",
       "      <td>TA</td>\n",
       "      <td>TA</td>\n",
       "      <td>Y</td>\n",
       "      <td>170</td>\n",
       "      <td>0</td>\n",
       "      <td>0</td>\n",
       "      <td>0</td>\n",
       "      <td>0</td>\n",
       "      <td>0</td>\n",
       "      <td>NoPl</td>\n",
       "      <td>NoFnc</td>\n",
       "      <td>NoMisc</td>\n",
       "      <td>0</td>\n",
       "      <td>8</td>\n",
       "      <td>2006</td>\n",
       "      <td>WD</td>\n",
       "    </tr>\n",
       "    <tr>\n",
       "      <th>2</th>\n",
       "      <td>60</td>\n",
       "      <td>RL</td>\n",
       "      <td>58.0</td>\n",
       "      <td>17104</td>\n",
       "      <td>Pave</td>\n",
       "      <td>NoAlley</td>\n",
       "      <td>IR1</td>\n",
       "      <td>Lvl</td>\n",
       "      <td>AllPub</td>\n",
       "      <td>Inside</td>\n",
       "      <td>Gtl</td>\n",
       "      <td>Gilbert</td>\n",
       "      <td>Norm</td>\n",
       "      <td>Norm</td>\n",
       "      <td>1Fam</td>\n",
       "      <td>2Story</td>\n",
       "      <td>7</td>\n",
       "      <td>5</td>\n",
       "      <td>2006</td>\n",
       "      <td>2006</td>\n",
       "      <td>Gable</td>\n",
       "      <td>CompShg</td>\n",
       "      <td>VinylSd</td>\n",
       "      <td>VinylSd</td>\n",
       "      <td>None</td>\n",
       "      <td>0.0</td>\n",
       "      <td>Gd</td>\n",
       "      <td>TA</td>\n",
       "      <td>PConc</td>\n",
       "      <td>Gd</td>\n",
       "      <td>Gd</td>\n",
       "      <td>Av</td>\n",
       "      <td>GLQ</td>\n",
       "      <td>554</td>\n",
       "      <td>Unf</td>\n",
       "      <td>0</td>\n",
       "      <td>100</td>\n",
       "      <td>654</td>\n",
       "      <td>GasA</td>\n",
       "      <td>Ex</td>\n",
       "      <td>Y</td>\n",
       "      <td>SBrkr</td>\n",
       "      <td>664</td>\n",
       "      <td>832</td>\n",
       "      <td>0</td>\n",
       "      <td>1496</td>\n",
       "      <td>1</td>\n",
       "      <td>0</td>\n",
       "      <td>2</td>\n",
       "      <td>1</td>\n",
       "      <td>3</td>\n",
       "      <td>1</td>\n",
       "      <td>Gd</td>\n",
       "      <td>7</td>\n",
       "      <td>Typ</td>\n",
       "      <td>1</td>\n",
       "      <td>Gd</td>\n",
       "      <td>Attchd</td>\n",
       "      <td>2006.0</td>\n",
       "      <td>RFn</td>\n",
       "      <td>2</td>\n",
       "      <td>426</td>\n",
       "      <td>TA</td>\n",
       "      <td>TA</td>\n",
       "      <td>Y</td>\n",
       "      <td>100</td>\n",
       "      <td>24</td>\n",
       "      <td>0</td>\n",
       "      <td>0</td>\n",
       "      <td>0</td>\n",
       "      <td>0</td>\n",
       "      <td>NoPl</td>\n",
       "      <td>NoFnc</td>\n",
       "      <td>NoMisc</td>\n",
       "      <td>0</td>\n",
       "      <td>9</td>\n",
       "      <td>2006</td>\n",
       "      <td>New</td>\n",
       "    </tr>\n",
       "    <tr>\n",
       "      <th>3</th>\n",
       "      <td>30</td>\n",
       "      <td>RM</td>\n",
       "      <td>60.0</td>\n",
       "      <td>8520</td>\n",
       "      <td>Pave</td>\n",
       "      <td>NoAlley</td>\n",
       "      <td>Reg</td>\n",
       "      <td>Lvl</td>\n",
       "      <td>AllPub</td>\n",
       "      <td>Inside</td>\n",
       "      <td>Gtl</td>\n",
       "      <td>OldTown</td>\n",
       "      <td>Norm</td>\n",
       "      <td>Norm</td>\n",
       "      <td>1Fam</td>\n",
       "      <td>1Story</td>\n",
       "      <td>5</td>\n",
       "      <td>6</td>\n",
       "      <td>1923</td>\n",
       "      <td>2006</td>\n",
       "      <td>Gable</td>\n",
       "      <td>CompShg</td>\n",
       "      <td>Wd Sdng</td>\n",
       "      <td>Wd Sdng</td>\n",
       "      <td>None</td>\n",
       "      <td>0.0</td>\n",
       "      <td>Gd</td>\n",
       "      <td>TA</td>\n",
       "      <td>CBlock</td>\n",
       "      <td>TA</td>\n",
       "      <td>TA</td>\n",
       "      <td>No</td>\n",
       "      <td>Unf</td>\n",
       "      <td>0</td>\n",
       "      <td>Unf</td>\n",
       "      <td>0</td>\n",
       "      <td>968</td>\n",
       "      <td>968</td>\n",
       "      <td>GasA</td>\n",
       "      <td>TA</td>\n",
       "      <td>Y</td>\n",
       "      <td>SBrkr</td>\n",
       "      <td>968</td>\n",
       "      <td>0</td>\n",
       "      <td>0</td>\n",
       "      <td>968</td>\n",
       "      <td>0</td>\n",
       "      <td>0</td>\n",
       "      <td>1</td>\n",
       "      <td>0</td>\n",
       "      <td>2</td>\n",
       "      <td>1</td>\n",
       "      <td>TA</td>\n",
       "      <td>5</td>\n",
       "      <td>Typ</td>\n",
       "      <td>0</td>\n",
       "      <td>NoFrPl</td>\n",
       "      <td>Detchd</td>\n",
       "      <td>1935.0</td>\n",
       "      <td>Unf</td>\n",
       "      <td>2</td>\n",
       "      <td>480</td>\n",
       "      <td>Fa</td>\n",
       "      <td>TA</td>\n",
       "      <td>N</td>\n",
       "      <td>0</td>\n",
       "      <td>0</td>\n",
       "      <td>184</td>\n",
       "      <td>0</td>\n",
       "      <td>0</td>\n",
       "      <td>0</td>\n",
       "      <td>NoPl</td>\n",
       "      <td>NoFnc</td>\n",
       "      <td>NoMisc</td>\n",
       "      <td>0</td>\n",
       "      <td>7</td>\n",
       "      <td>2007</td>\n",
       "      <td>WD</td>\n",
       "    </tr>\n",
       "    <tr>\n",
       "      <th>4</th>\n",
       "      <td>20</td>\n",
       "      <td>RL</td>\n",
       "      <td>68.0</td>\n",
       "      <td>9500</td>\n",
       "      <td>Pave</td>\n",
       "      <td>NoAlley</td>\n",
       "      <td>IR1</td>\n",
       "      <td>Lvl</td>\n",
       "      <td>AllPub</td>\n",
       "      <td>Inside</td>\n",
       "      <td>Gtl</td>\n",
       "      <td>NAmes</td>\n",
       "      <td>Norm</td>\n",
       "      <td>Norm</td>\n",
       "      <td>1Fam</td>\n",
       "      <td>1Story</td>\n",
       "      <td>6</td>\n",
       "      <td>5</td>\n",
       "      <td>1963</td>\n",
       "      <td>1963</td>\n",
       "      <td>Gable</td>\n",
       "      <td>CompShg</td>\n",
       "      <td>Plywood</td>\n",
       "      <td>Plywood</td>\n",
       "      <td>BrkFace</td>\n",
       "      <td>247.0</td>\n",
       "      <td>TA</td>\n",
       "      <td>TA</td>\n",
       "      <td>CBlock</td>\n",
       "      <td>Gd</td>\n",
       "      <td>TA</td>\n",
       "      <td>No</td>\n",
       "      <td>BLQ</td>\n",
       "      <td>609</td>\n",
       "      <td>Unf</td>\n",
       "      <td>0</td>\n",
       "      <td>785</td>\n",
       "      <td>1394</td>\n",
       "      <td>GasA</td>\n",
       "      <td>Gd</td>\n",
       "      <td>Y</td>\n",
       "      <td>SBrkr</td>\n",
       "      <td>1394</td>\n",
       "      <td>0</td>\n",
       "      <td>0</td>\n",
       "      <td>1394</td>\n",
       "      <td>1</td>\n",
       "      <td>0</td>\n",
       "      <td>1</td>\n",
       "      <td>1</td>\n",
       "      <td>3</td>\n",
       "      <td>1</td>\n",
       "      <td>TA</td>\n",
       "      <td>6</td>\n",
       "      <td>Typ</td>\n",
       "      <td>2</td>\n",
       "      <td>Gd</td>\n",
       "      <td>Attchd</td>\n",
       "      <td>1963.0</td>\n",
       "      <td>RFn</td>\n",
       "      <td>2</td>\n",
       "      <td>514</td>\n",
       "      <td>TA</td>\n",
       "      <td>TA</td>\n",
       "      <td>Y</td>\n",
       "      <td>0</td>\n",
       "      <td>76</td>\n",
       "      <td>0</td>\n",
       "      <td>0</td>\n",
       "      <td>185</td>\n",
       "      <td>0</td>\n",
       "      <td>NoPl</td>\n",
       "      <td>NoFnc</td>\n",
       "      <td>NoMisc</td>\n",
       "      <td>0</td>\n",
       "      <td>7</td>\n",
       "      <td>2009</td>\n",
       "      <td>WD</td>\n",
       "    </tr>\n",
       "  </tbody>\n",
       "</table>\n",
       "</div>"
      ],
      "text/plain": [
       "   ms_subclass ms_zoning  lot_frontage  lot_area street    alley lot_shape  \\\n",
       "0          190        RM          69.0      9142   Pave     Grvl       Reg   \n",
       "1           90        RL          68.0      9662   Pave  NoAlley       IR1   \n",
       "2           60        RL          58.0     17104   Pave  NoAlley       IR1   \n",
       "3           30        RM          60.0      8520   Pave  NoAlley       Reg   \n",
       "4           20        RL          68.0      9500   Pave  NoAlley       IR1   \n",
       "\n",
       "  land_contour utilities lot_config land_slope neighborhood condition_1  \\\n",
       "0          Lvl    AllPub     Inside        Gtl      OldTown        Norm   \n",
       "1          Lvl    AllPub     Inside        Gtl       Sawyer        Norm   \n",
       "2          Lvl    AllPub     Inside        Gtl      Gilbert        Norm   \n",
       "3          Lvl    AllPub     Inside        Gtl      OldTown        Norm   \n",
       "4          Lvl    AllPub     Inside        Gtl        NAmes        Norm   \n",
       "\n",
       "  condition_2 bldg_type house_style  overall_qual  overall_cond  year_built  \\\n",
       "0        Norm    2fmCon      2Story             6             8        1910   \n",
       "1        Norm    Duplex      1Story             5             4        1977   \n",
       "2        Norm      1Fam      2Story             7             5        2006   \n",
       "3        Norm      1Fam      1Story             5             6        1923   \n",
       "4        Norm      1Fam      1Story             6             5        1963   \n",
       "\n",
       "   year_remod/add roof_style roof_matl exterior_1st exterior_2nd mas_vnr_type  \\\n",
       "0            1950      Gable   CompShg      AsbShng      AsbShng         None   \n",
       "1            1977      Gable   CompShg      Plywood      Plywood         None   \n",
       "2            2006      Gable   CompShg      VinylSd      VinylSd         None   \n",
       "3            2006      Gable   CompShg      Wd Sdng      Wd Sdng         None   \n",
       "4            1963      Gable   CompShg      Plywood      Plywood      BrkFace   \n",
       "\n",
       "   mas_vnr_area exter_qual exter_cond foundation bsmt_qual bsmt_cond  \\\n",
       "0           0.0         TA         Fa      Stone        Fa        TA   \n",
       "1           0.0         TA         TA     CBlock        Gd        TA   \n",
       "2           0.0         Gd         TA      PConc        Gd        Gd   \n",
       "3           0.0         Gd         TA     CBlock        TA        TA   \n",
       "4         247.0         TA         TA     CBlock        Gd        TA   \n",
       "\n",
       "  bsmt_exposure bsmtfin_type_1  bsmtfin_sf_1 bsmtfin_type_2  bsmtfin_sf_2  \\\n",
       "0            No            Unf             0            Unf             0   \n",
       "1            No            Unf             0            Unf             0   \n",
       "2            Av            GLQ           554            Unf             0   \n",
       "3            No            Unf             0            Unf             0   \n",
       "4            No            BLQ           609            Unf             0   \n",
       "\n",
       "   bsmt_unf_sf  total_bsmt_sf heating heating_qc central_air electrical  \\\n",
       "0         1020           1020    GasA         Gd           N      FuseP   \n",
       "1         1967           1967    GasA         TA           Y      SBrkr   \n",
       "2          100            654    GasA         Ex           Y      SBrkr   \n",
       "3          968            968    GasA         TA           Y      SBrkr   \n",
       "4          785           1394    GasA         Gd           Y      SBrkr   \n",
       "\n",
       "   1st_flr_sf  2nd_flr_sf  low_qual_fin_sf  gr_liv_area  bsmt_full_bath  \\\n",
       "0         908        1020                0         1928               0   \n",
       "1        1967           0                0         1967               0   \n",
       "2         664         832                0         1496               1   \n",
       "3         968           0                0          968               0   \n",
       "4        1394           0                0         1394               1   \n",
       "\n",
       "   bsmt_half_bath  full_bath  half_bath  bedroom_abvgr  kitchen_abvgr  \\\n",
       "0               0          2          0              4              2   \n",
       "1               0          2          0              6              2   \n",
       "2               0          2          1              3              1   \n",
       "3               0          1          0              2              1   \n",
       "4               0          1          1              3              1   \n",
       "\n",
       "  kitchen_qual  totrms_abvgrd functional  fireplaces fireplace_qu garage_type  \\\n",
       "0           Fa              9        Typ           0       NoFrPl      Detchd   \n",
       "1           TA             10        Typ           0       NoFrPl      Attchd   \n",
       "2           Gd              7        Typ           1           Gd      Attchd   \n",
       "3           TA              5        Typ           0       NoFrPl      Detchd   \n",
       "4           TA              6        Typ           2           Gd      Attchd   \n",
       "\n",
       "   garage_yr_blt garage_finish  garage_cars  garage_area garage_qual  \\\n",
       "0         1910.0           Unf            1          440          Po   \n",
       "1         1977.0           Fin            2          580          TA   \n",
       "2         2006.0           RFn            2          426          TA   \n",
       "3         1935.0           Unf            2          480          Fa   \n",
       "4         1963.0           RFn            2          514          TA   \n",
       "\n",
       "  garage_cond paved_drive  wood_deck_sf  open_porch_sf  enclosed_porch  \\\n",
       "0          Po           Y             0             60             112   \n",
       "1          TA           Y           170              0               0   \n",
       "2          TA           Y           100             24               0   \n",
       "3          TA           N             0              0             184   \n",
       "4          TA           Y             0             76               0   \n",
       "\n",
       "   3ssn_porch  screen_porch  pool_area pool_qc  fence misc_feature  misc_val  \\\n",
       "0           0             0          0    NoPl  NoFnc       NoMisc         0   \n",
       "1           0             0          0    NoPl  NoFnc       NoMisc         0   \n",
       "2           0             0          0    NoPl  NoFnc       NoMisc         0   \n",
       "3           0             0          0    NoPl  NoFnc       NoMisc         0   \n",
       "4           0           185          0    NoPl  NoFnc       NoMisc         0   \n",
       "\n",
       "   mo_sold  yr_sold sale_type  \n",
       "0        4     2006       WD   \n",
       "1        8     2006       WD   \n",
       "2        9     2006       New  \n",
       "3        7     2007       WD   \n",
       "4        7     2009       WD   "
      ]
     },
     "execution_count": 4,
     "metadata": {},
     "output_type": "execute_result"
    }
   ],
   "source": [
    "ames_test_df.head()"
   ]
  },
  {
   "cell_type": "code",
   "execution_count": 5,
   "id": "10bd6d6b-07d5-49cb-8837-8852ef4e7a4f",
   "metadata": {},
   "outputs": [
    {
     "data": {
      "text/plain": [
       "(2051, 79)"
      ]
     },
     "execution_count": 5,
     "metadata": {},
     "output_type": "execute_result"
    }
   ],
   "source": [
    "ames_df.shape"
   ]
  },
  {
   "cell_type": "code",
   "execution_count": 6,
   "id": "7d0f7393-8da3-44f1-bad8-8fd836ac1d27",
   "metadata": {},
   "outputs": [
    {
     "data": {
      "text/plain": [
       "(878, 78)"
      ]
     },
     "execution_count": 6,
     "metadata": {},
     "output_type": "execute_result"
    }
   ],
   "source": [
    "ames_test_df.shape"
   ]
  },
  {
   "cell_type": "markdown",
   "id": "6c30588d-275a-40ee-8b0d-57b1d8d72fd0",
   "metadata": {},
   "source": [
    "**Setting Features**"
   ]
  },
  {
   "cell_type": "code",
   "execution_count": 7,
   "id": "b38d1f4e-622c-419e-9196-00f0eb2a8561",
   "metadata": {},
   "outputs": [
    {
     "data": {
      "text/plain": [
       "Index(['overall_qual', 'gr_liv_area', 'garage_area', 'garage_cars',\n",
       "       'total_bsmt_sf', '1st_flr_sf', 'year_built', 'year_remod/add',\n",
       "       'full_bath', 'garage_yr_blt', 'totrms_abvgrd', 'mas_vnr_area',\n",
       "       'fireplaces', 'bsmtfin_sf_1', 'open_porch_sf', 'wood_deck_sf',\n",
       "       'lot_frontage', 'lot_area', 'bsmt_full_bath', 'half_bath', '2nd_flr_sf',\n",
       "       'bsmt_unf_sf', 'bedroom_abvgr', 'screen_porch', 'kitchen_abvgr',\n",
       "       'enclosed_porch'],\n",
       "      dtype='object')"
      ]
     },
     "execution_count": 7,
     "metadata": {},
     "output_type": "execute_result"
    }
   ],
   "source": [
    "ames_corr = ames_df.corr()['saleprice'][:-1]\n",
    "list_feats = ames_corr[(ames_corr > 0.10) | (ames_corr < -0.10)].sort_values(ascending = False).keys()\n",
    "list_feats"
   ]
  },
  {
   "cell_type": "code",
   "execution_count": 8,
   "id": "55763f9f-10ab-465c-83f9-3f84f8112779",
   "metadata": {},
   "outputs": [
    {
     "data": {
      "text/plain": [
       "Index(['ms_zoning', 'street', 'alley', 'lot_shape', 'land_contour',\n",
       "       'utilities', 'lot_config', 'land_slope', 'neighborhood', 'condition_1',\n",
       "       'condition_2', 'bldg_type', 'house_style', 'roof_style', 'roof_matl',\n",
       "       'exterior_1st', 'exterior_2nd', 'mas_vnr_type', 'exter_qual',\n",
       "       'exter_cond', 'foundation', 'bsmt_qual', 'bsmt_cond', 'bsmt_exposure',\n",
       "       'bsmtfin_type_1', 'bsmtfin_type_2', 'heating', 'heating_qc',\n",
       "       'central_air', 'electrical', 'kitchen_qual', 'functional',\n",
       "       'fireplace_qu', 'garage_type', 'garage_finish', 'garage_qual',\n",
       "       'garage_cond', 'paved_drive', 'pool_qc', 'fence', 'misc_feature',\n",
       "       'sale_type'],\n",
       "      dtype='object')"
      ]
     },
     "execution_count": 8,
     "metadata": {},
     "output_type": "execute_result"
    }
   ],
   "source": [
    "list_feats_obj = ames_df.select_dtypes(exclude = 'number').columns\n",
    "list_feats_obj"
   ]
  },
  {
   "cell_type": "markdown",
   "id": "8ee2a1ad-a1ea-42b1-8666-9a876de4110c",
   "metadata": {},
   "source": [
    "**Train-Test Split**"
   ]
  },
  {
   "cell_type": "code",
   "execution_count": 9,
   "id": "6868a957-3e4a-4d25-8b8a-c905add52fb3",
   "metadata": {},
   "outputs": [],
   "source": [
    "#setting features and target:\n",
    "X = pd.get_dummies(ames_df, columns = list_feats_obj, drop_first = True).drop(columns = 'saleprice')\n",
    "y = ames_df[['saleprice']]"
   ]
  },
  {
   "cell_type": "code",
   "execution_count": 10,
   "id": "ed8fd2b5-fcd9-4f6e-b2e8-fdc0018ae353",
   "metadata": {},
   "outputs": [],
   "source": [
    "# Train/test split data\n",
    "X_train, X_test, y_train, y_test = train_test_split(X, y,\n",
    "                                                    test_size = 0.20,\n",
    "                                                    random_state = 42)"
   ]
  },
  {
   "cell_type": "code",
   "execution_count": 11,
   "id": "1d37c9d4-1fc1-40e3-b55c-c6059f022e8b",
   "metadata": {},
   "outputs": [
    {
     "data": {
      "text/plain": [
       "((1640, 260), (411, 260), (1640, 1), (411, 1))"
      ]
     },
     "execution_count": 11,
     "metadata": {},
     "output_type": "execute_result"
    }
   ],
   "source": [
    "# Check train/test shape\n",
    "X_train.shape, X_test.shape, y_train.shape, y_test.shape"
   ]
  },
  {
   "cell_type": "code",
   "execution_count": 12,
   "id": "a81c7e37-096b-421e-97fb-52694d7bb361",
   "metadata": {},
   "outputs": [
    {
     "data": {
      "text/plain": [
       "ms_subclass          0\n",
       "foundation_Stone     0\n",
       "bsmt_qual_Fa         0\n",
       "bsmt_qual_Gd         0\n",
       "bsmt_qual_NoBsmt     0\n",
       "                    ..\n",
       "condition_1_RRAn     0\n",
       "condition_1_RRNe     0\n",
       "condition_1_RRNn     0\n",
       "condition_2_Feedr    0\n",
       "sale_type_WD         0\n",
       "Length: 260, dtype: int64"
      ]
     },
     "execution_count": 12,
     "metadata": {},
     "output_type": "execute_result"
    }
   ],
   "source": [
    "X_train.isna().sum().sort_values(ascending = False)"
   ]
  },
  {
   "cell_type": "markdown",
   "id": "fcc5ebde-6c90-4c18-a881-04eb99f7f935",
   "metadata": {},
   "source": [
    "## Modeling"
   ]
  },
  {
   "cell_type": "markdown",
   "id": "dfeffd59-e45e-4380-ae1e-e9d65e6fa499",
   "metadata": {},
   "source": [
    "**Linear Regression**"
   ]
  },
  {
   "cell_type": "code",
   "execution_count": 13,
   "id": "2e7957f8-3552-4d87-9347-6eba82a2aed4",
   "metadata": {},
   "outputs": [
    {
     "name": "stdout",
     "output_type": "stream",
     "text": [
      "0.9442018393894729, 0.9249765807891271\n",
      "0.01922525860034574\n"
     ]
    }
   ],
   "source": [
    "lr_1 = LinearRegression()\n",
    "\n",
    "lr_1.fit(X_train, y_train)\n",
    "print(f'{lr_1.score(X_train, y_train)}, {lr_1.score(X_test, y_test)}')\n",
    "print(abs(lr_1.score(X_train, y_train) - lr_1.score(X_test, y_test)))"
   ]
  },
  {
   "cell_type": "code",
   "execution_count": 14,
   "id": "8de05b8b-3107-49ce-a1b5-1d0e1746be1d",
   "metadata": {},
   "outputs": [
    {
     "data": {
      "text/plain": [
       "(array([0.92228758, 0.61676296, 0.58445918, 0.79351056, 0.50253562]),\n",
       " array([0.84426306, 0.79798976, 0.82320348, 0.81954553, 0.8293604 ]))"
      ]
     },
     "execution_count": 14,
     "metadata": {},
     "output_type": "execute_result"
    }
   ],
   "source": [
    "cross_val_score(lr_1, X_train, y_train, cv = 5), cross_val_score(lr_1, X_test, y_test, cv = 5)"
   ]
  },
  {
   "cell_type": "code",
   "execution_count": 15,
   "id": "90e92277-8dd1-49ad-b713-b84fcfca8585",
   "metadata": {},
   "outputs": [
    {
     "data": {
      "text/plain": [
       "(0.6839111802119382, 0.822872444560333)"
      ]
     },
     "execution_count": 15,
     "metadata": {},
     "output_type": "execute_result"
    }
   ],
   "source": [
    "cross_val_score(lr_1, X_train, y_train, cv = 5).mean(), cross_val_score(lr_1, X_test, y_test, cv = 5).mean()"
   ]
  },
  {
   "cell_type": "code",
   "execution_count": 16,
   "id": "1ebab0a4-c353-4db8-80d3-5a4388022eaf",
   "metadata": {},
   "outputs": [
    {
     "data": {
      "text/plain": [
       "array([0.71553983, 0.91891329, 0.68944041, 0.89233223, 0.81040976])"
      ]
     },
     "execution_count": 16,
     "metadata": {},
     "output_type": "execute_result"
    }
   ],
   "source": [
    "cross_val_score(lr_1, X, y, cv = 5)"
   ]
  },
  {
   "cell_type": "code",
   "execution_count": 17,
   "id": "3db14733-1cdc-468d-9589-d772d44198c6",
   "metadata": {},
   "outputs": [
    {
     "data": {
      "text/plain": [
       "0.805327101622406"
      ]
     },
     "execution_count": 17,
     "metadata": {},
     "output_type": "execute_result"
    }
   ],
   "source": [
    "cross_val_score(lr_1, X, y, cv = 5).mean()"
   ]
  },
  {
   "cell_type": "markdown",
   "id": "fbe69fbb-e330-470d-9861-ddd9b91efbe0",
   "metadata": {},
   "source": [
    "**Huber Regressor**"
   ]
  },
  {
   "cell_type": "code",
   "execution_count": 33,
   "id": "ce31b0a2-8ae9-45af-88fb-55b0e287175a",
   "metadata": {},
   "outputs": [
    {
     "name": "stderr",
     "output_type": "stream",
     "text": [
      "C:\\Users\\Mary\\anaconda3\\lib\\site-packages\\sklearn\\linear_model\\_huber.py:332: ConvergenceWarning: lbfgs failed to converge (status=1):\n",
      "STOP: TOTAL NO. of f AND g EVALUATIONS EXCEEDS LIMIT.\n",
      "\n",
      "Increase the number of iterations (max_iter) or scale the data as shown in:\n",
      "    https://scikit-learn.org/stable/modules/preprocessing.html\n",
      "  self.n_iter_ = _check_optimize_result(\"lbfgs\", opt_res, self.max_iter)\n"
     ]
    },
    {
     "data": {
      "text/plain": [
       "(0.8491797363732768, 0.9191667818260718)"
      ]
     },
     "execution_count": 33,
     "metadata": {},
     "output_type": "execute_result"
    }
   ],
   "source": [
    "#https://machinelearningmastery.com/robust-regression-for-machine-learning-in-python/\n",
    "huber = HuberRegressor(max_iter = 50_000)\n",
    "\n",
    "huber.fit(X_train, y_train['saleprice'])\n",
    "huber.score(X_train, y_train['saleprice']), huber.score(X_test, y_test['saleprice'])"
   ]
  },
  {
   "cell_type": "code",
   "execution_count": 34,
   "id": "a80e2e28-a14e-44d5-956a-3b50bd0b4f1e",
   "metadata": {},
   "outputs": [],
   "source": [
    "huber_preds = huber.predict(X_test)"
   ]
  },
  {
   "cell_type": "code",
   "execution_count": 35,
   "id": "3ed0e9e0-1bd8-4f3c-a5ba-fe679cc33cd7",
   "metadata": {},
   "outputs": [
    {
     "data": {
      "text/plain": [
       "('RMSE: 21915.104795537616', 'R2 Score: 0.9191667818260718')"
      ]
     },
     "execution_count": 35,
     "metadata": {},
     "output_type": "execute_result"
    }
   ],
   "source": [
    "model_eval(y_test, huber_preds)"
   ]
  },
  {
   "cell_type": "code",
   "execution_count": 18,
   "id": "c5aba94b-5487-4d5f-ad1b-b6afa4437185",
   "metadata": {},
   "outputs": [],
   "source": [
    "def model_eval(true_val, pred_val):\n",
    "    rmse = mean_squared_error(true_val, pred_val, squared = False)\n",
    "    r2 = r2_score(true_val, pred_val)\n",
    "    \n",
    "    return f'RMSE: {rmse}', f'R2 Score: {r2}'"
   ]
  },
  {
   "cell_type": "code",
   "execution_count": 19,
   "id": "fb9ed24d-2838-4b72-87a3-38784058ecd0",
   "metadata": {},
   "outputs": [],
   "source": [
    "lr_1_preds = lr_1.predict(X_test)"
   ]
  },
  {
   "cell_type": "code",
   "execution_count": 20,
   "id": "3aa1f701-5a29-475e-9e10-1bf56159c930",
   "metadata": {},
   "outputs": [
    {
     "data": {
      "text/plain": [
       "('RMSE: 21112.858822152903', 'R2 Score: 0.9249765807891271')"
      ]
     },
     "execution_count": 20,
     "metadata": {},
     "output_type": "execute_result"
    }
   ],
   "source": [
    "model_eval(y_test, lr_1_preds)"
   ]
  },
  {
   "cell_type": "markdown",
   "id": "cc888de6-8004-4f8c-ad8e-ab9711fc50d2",
   "metadata": {},
   "source": [
    "**Scaling with Standard Scaler**"
   ]
  },
  {
   "cell_type": "code",
   "execution_count": 21,
   "id": "bd6ec88f-77fa-47b3-b0fd-1518c950c994",
   "metadata": {},
   "outputs": [],
   "source": [
    "sc = StandardScaler()\n",
    "\n",
    "X_train_sc = sc.fit_transform(X_train)\n",
    "X_test_sc = sc.transform(X_test)"
   ]
  },
  {
   "cell_type": "code",
   "execution_count": 22,
   "id": "9fa7c917-4881-43de-8d86-e3ec09aac3d7",
   "metadata": {},
   "outputs": [
    {
     "data": {
      "text/plain": [
       "(0.9442013257834327, -3.790913846045648e+20)"
      ]
     },
     "execution_count": 22,
     "metadata": {},
     "output_type": "execute_result"
    }
   ],
   "source": [
    "lr_1.fit(X_train_sc, y_train)\n",
    "lr_1.score(X_train_sc, y_train), lr_1.score(X_test_sc, y_test)"
   ]
  },
  {
   "cell_type": "code",
   "execution_count": 23,
   "id": "4d49cf78-6ac8-4f61-b403-65db6c60ef98",
   "metadata": {},
   "outputs": [
    {
     "data": {
      "text/plain": [
       "array([0.71553983, 0.91891329, 0.68944041, 0.89233223, 0.81040976])"
      ]
     },
     "execution_count": 23,
     "metadata": {},
     "output_type": "execute_result"
    }
   ],
   "source": [
    "cross_val_score(lr_1, X, y, cv = 5)"
   ]
  },
  {
   "cell_type": "code",
   "execution_count": 24,
   "id": "12f02dd9-536f-4a28-8559-aed885d300cb",
   "metadata": {},
   "outputs": [
    {
     "data": {
      "text/plain": [
       "0.805327101622406"
      ]
     },
     "execution_count": 24,
     "metadata": {},
     "output_type": "execute_result"
    }
   ],
   "source": [
    "cross_val_score(lr_1, X, y, cv = 5).mean()"
   ]
  },
  {
   "cell_type": "markdown",
   "id": "eaec6b42-7b4d-448a-a9de-eda2debc7848",
   "metadata": {},
   "source": [
    "**LASSO**"
   ]
  },
  {
   "cell_type": "code",
   "execution_count": 25,
   "id": "c6fd4010-067a-4a4f-a791-03b074f50151",
   "metadata": {},
   "outputs": [
    {
     "data": {
      "text/plain": [
       "(1640, 1)"
      ]
     },
     "execution_count": 25,
     "metadata": {},
     "output_type": "execute_result"
    }
   ],
   "source": [
    "y_train.shape"
   ]
  },
  {
   "cell_type": "code",
   "execution_count": 26,
   "id": "cab64ee1-ecff-4981-858c-0bfdc75e4e71",
   "metadata": {},
   "outputs": [
    {
     "data": {
      "text/plain": [
       "(1640,)"
      ]
     },
     "execution_count": 26,
     "metadata": {},
     "output_type": "execute_result"
    }
   ],
   "source": [
    "y_train['saleprice'].shape"
   ]
  },
  {
   "cell_type": "code",
   "execution_count": 27,
   "id": "aa5e8112-e7cd-47f9-b8dd-23dad172a756",
   "metadata": {},
   "outputs": [
    {
     "data": {
      "text/plain": [
       "(0.9089581949963439, 0.9059163448698833)"
      ]
     },
     "execution_count": 27,
     "metadata": {},
     "output_type": "execute_result"
    }
   ],
   "source": [
    "l_alphas = np.logspace(-3, 3, 100)\n",
    "\n",
    "lasso = LassoCV(alphas = l_alphas,\n",
    "                cv = 5,\n",
    "                max_iter = 50_000)\n",
    "\n",
    "lasso.fit(X_train_sc, y_train['saleprice'])\n",
    "lasso.score(X_train_sc, y_train['saleprice']), lasso.score(X_test_sc, y_test['saleprice'])"
   ]
  },
  {
   "cell_type": "code",
   "execution_count": 28,
   "id": "d2d224be-0c63-4680-8eb5-fb883a22454f",
   "metadata": {},
   "outputs": [
    {
     "data": {
      "text/plain": [
       "657.9332246575682"
      ]
     },
     "execution_count": 28,
     "metadata": {},
     "output_type": "execute_result"
    }
   ],
   "source": [
    "lasso.alpha_"
   ]
  },
  {
   "cell_type": "code",
   "execution_count": 29,
   "id": "47395ee6-b790-424c-b52d-a928b8cef93b",
   "metadata": {},
   "outputs": [
    {
     "data": {
      "text/plain": [
       "array([0.86483147, 0.89954753, 0.77503515, 0.90555985, 0.82648217])"
      ]
     },
     "execution_count": 29,
     "metadata": {},
     "output_type": "execute_result"
    }
   ],
   "source": [
    "cross_val_score(lasso, X, y['saleprice'], cv = 5)"
   ]
  },
  {
   "cell_type": "code",
   "execution_count": 30,
   "id": "6efbc572-ccb2-4a4b-89fd-b39a189de7e5",
   "metadata": {},
   "outputs": [
    {
     "data": {
      "text/plain": [
       "0.8542912319417914"
      ]
     },
     "execution_count": 30,
     "metadata": {},
     "output_type": "execute_result"
    }
   ],
   "source": [
    "cross_val_score(lasso, X, y['saleprice'], cv = 5).mean()"
   ]
  },
  {
   "cell_type": "markdown",
   "id": "2bd95edc-2f54-4654-bd39-40a1c8720633",
   "metadata": {},
   "source": [
    "**Ridge**"
   ]
  },
  {
   "cell_type": "code",
   "execution_count": 31,
   "id": "62d26f0b-6d66-4905-b182-c6fe9df42f02",
   "metadata": {},
   "outputs": [
    {
     "data": {
      "text/plain": [
       "(0.9018617525737664, 0.8949899014488097)"
      ]
     },
     "execution_count": 31,
     "metadata": {},
     "output_type": "execute_result"
    }
   ],
   "source": [
    "ridge = RidgeCV(alphas = l_alphas)\n",
    "\n",
    "ridge.fit(X_train_sc, y_train['saleprice'])\n",
    "ridge.score(X_train_sc, y_train['saleprice']), ridge.score(X_test_sc, y_test['saleprice'])"
   ]
  },
  {
   "cell_type": "code",
   "execution_count": 32,
   "id": "7b1cf9ce-b7ea-4686-8fb3-fd64916db016",
   "metadata": {},
   "outputs": [
    {
     "data": {
      "text/plain": [
       "657.9332246575682"
      ]
     },
     "execution_count": 32,
     "metadata": {},
     "output_type": "execute_result"
    }
   ],
   "source": [
    "ridge.alpha_"
   ]
  }
 ],
 "metadata": {
  "kernelspec": {
   "display_name": "Python 3",
   "language": "python",
   "name": "python3"
  },
  "language_info": {
   "codemirror_mode": {
    "name": "ipython",
    "version": 3
   },
   "file_extension": ".py",
   "mimetype": "text/x-python",
   "name": "python",
   "nbconvert_exporter": "python",
   "pygments_lexer": "ipython3",
   "version": "3.8.8"
  }
 },
 "nbformat": 4,
 "nbformat_minor": 5
}
